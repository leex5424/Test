{
 "cells": [
  {
   "cell_type": "markdown",
   "metadata": {},
   "source": [
    "#### Sigmoid, Relu 성능비교"
   ]
  },
  {
   "cell_type": "code",
   "execution_count": 1,
   "metadata": {},
   "outputs": [],
   "source": [
    "import tensorflow as tf\n",
    "import numpy as np\n",
    "import matplotlib.pyplot as plt\n",
    "from tensorflow.python.framework import ops\n",
    "ops.reset_default_graph()"
   ]
  },
  {
   "cell_type": "code",
   "execution_count": 2,
   "metadata": {},
   "outputs": [],
   "source": [
    "sess = tf.Session()\n",
    "tf.set_random_seed(5)\n",
    "np.random.seed(42)"
   ]
  },
  {
   "cell_type": "code",
   "execution_count": 3,
   "metadata": {},
   "outputs": [],
   "source": [
    "# 지역해 방지\n",
    "batch_size = 50"
   ]
  },
  {
   "cell_type": "code",
   "execution_count": 4,
   "metadata": {},
   "outputs": [],
   "source": [
    "# 가중치는 반드시 초기화 되어야 함\n",
    "a1 = tf.Variable(tf.random_normal(shape=[1,1])) # 가중치\n",
    "b1 = tf.Variable(tf.random_uniform(shape=[1,1]))\n",
    "a2 = tf.Variable(tf.random_normal(shape=[1,1])) \n",
    "b2 = tf.Variable(tf.random_uniform(shape=[1,1]))"
   ]
  },
  {
   "cell_type": "code",
   "execution_count": 5,
   "metadata": {},
   "outputs": [],
   "source": [
    "# 데이터 생성\n",
    "x = np.random.normal(2,0.1,500) # 평균 2, 표준편차 0.1, n 500"
   ]
  },
  {
   "cell_type": "code",
   "execution_count": 6,
   "metadata": {},
   "outputs": [],
   "source": [
    "# none  1차원 이지만, 여러개가 들어올 수 있음\n",
    "x_data = tf.placeholder(shape=[None, 1], dtype=tf.float32)"
   ]
  },
  {
   "cell_type": "code",
   "execution_count": 7,
   "metadata": {},
   "outputs": [],
   "source": [
    "# 0-1 확률값으로 매핑 (예측값)\n",
    "sigmoid_activation = tf.sigmoid(tf.add(tf.matmul(x_data, a1), b1)) # y = ax + b\n",
    "relu_activation = tf.nn.relu(tf.add(tf.matmul(x_data, a2), b2))"
   ]
  },
  {
   "cell_type": "code",
   "execution_count": 8,
   "metadata": {},
   "outputs": [],
   "source": [
    "# loss function: mse\n",
    "loss1 = tf.reduce_mean(tf.square(tf.subtract(sigmoid_activation, 0.75)))\n",
    "loss2 = tf.reduce_mean(tf.square(tf.subtract(relu_activation, 0.75)))"
   ]
  },
  {
   "cell_type": "code",
   "execution_count": 9,
   "metadata": {},
   "outputs": [],
   "source": [
    "# 가중치 초기화\n",
    "init = tf.global_variables_initializer()\n",
    "sess.run(init)"
   ]
  },
  {
   "cell_type": "code",
   "execution_count": 10,
   "metadata": {},
   "outputs": [
    {
     "name": "stdout",
     "output_type": "stream",
     "text": [
      "\n",
      " Sigmoid and Relu 함수의 최적화 0.75\n"
     ]
    }
   ],
   "source": [
    "# learning rate\n",
    "my_opt = tf.train.GradientDescentOptimizer(0.01)\n",
    "\n",
    "# 트레인 \n",
    "train_step_sigmoid = my_opt.minimize(loss1) #미분 수행. 가중치 수정\n",
    "train_step_relu = my_opt.minimize(loss2)\n",
    "\n",
    "print('\\n Sigmoid and Relu 함수의 최적화 0.75')"
   ]
  },
  {
   "cell_type": "code",
   "execution_count": 11,
   "metadata": {},
   "outputs": [
    {
     "name": "stdout",
     "output_type": "stream",
     "text": [
      "sigmoid = 0.12655206            relu=2.0227606\n",
      "sigmoid = 0.17863758            relu=0.7530296\n",
      "sigmoid = 0.24769813            relu=0.7492897\n",
      "sigmoid = 0.3446748            relu=0.7499546\n",
      "sigmoid = 0.4400661            relu=0.7539999\n",
      "sigmoid = 0.5236898            relu=0.754772\n",
      "sigmoid = 0.58373857            relu=0.7508698\n",
      "sigmoid = 0.62733483            relu=0.7470234\n",
      "sigmoid = 0.6549499            relu=0.75180537\n",
      "sigmoid = 0.67452586            relu=0.75470716\n"
     ]
    },
    {
     "data": {
      "image/png": "[encoded data removed]",
      "text/plain": [
       "<Figure size 432x288 with 1 Axes>"
      ]
     },
     "metadata": {
      "needs_background": "light"
     },
     "output_type": "display_data"
    }
   ],
   "source": [
    "loss_vec_sigmoid = []\n",
    "loss_vec_relu = []\n",
    "\n",
    "for i in range(500): # epoch 500, batch size가 500번 돈다\n",
    "    rand_indices = np.random.choice(len(x), size=batch_size)\n",
    "    x_vals = np.transpose([x[rand_indices]])\n",
    "    sess.run(train_step_sigmoid, feed_dict= {x_data:x_vals})\n",
    "    sess.run(train_step_relu, feed_dict = {x_data:x_vals})\n",
    "    \n",
    "    # loss 값 변화 저장\n",
    "    loss_vec_sigmoid.append(sess.run(loss1, feed_dict={x_data: x_vals}))\n",
    "    loss_vec_relu.append(sess.run(loss2, feed_dict={x_data: x_vals}))\n",
    "    \n",
    "    sigmoid_output = np.mean(sess.run(sigmoid_activation, feed_dict={x_data:x_vals}))\n",
    "    relu_output = np.mean(sess.run(relu_activation, feed_dict = {x_data:x_vals}))\n",
    "    \n",
    "    if i%50 == 0:\n",
    "        print('sigmoid = ' + str(np.mean(sigmoid_output)) + '            ' + 'relu=' + str(np.mean(relu_output)))\n",
    "        \n",
    "plt.plot(loss_vec_sigmoid, 'k-', label= 'Sigmoide Activation')\n",
    "plt.plot(loss_vec_relu, 'r--', label='Relu Activation')\n",
    "plt.ylim([0,1.0])\n",
    "plt.title('loss')\n",
    "plt.xlabel('Generation')\n",
    "plt.ylabel('Loss')\n",
    "plt.legend(loc='upper right')\n",
    "plt.show()"
   ]
  },
  {
   "cell_type": "code",
   "execution_count": null,
   "metadata": {},
   "outputs": [],
   "source": []
  }
 ],
 "metadata": {
  "kernelspec": {
   "display_name": "Python 3",
   "language": "python",
   "name": "python3"
  },
  "language_info": {
   "codemirror_mode": {
    "name": "ipython",
    "version": 3
   },
   "file_extension": ".py",
   "mimetype": "text/x-python",
   "name": "python",
   "nbconvert_exporter": "python",
   "pygments_lexer": "ipython3",
   "version": "3.7.3"
  }
 },
 "nbformat": 4,
 "nbformat_minor": 4
}
