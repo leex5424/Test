{
 "cells": [
  {
   "cell_type": "code",
   "execution_count": 1,
   "metadata": {},
   "outputs": [
    {
     "name": "stdout",
     "output_type": "stream",
     "text": [
      "[ 3.5 10.1]\n",
      "[-8  5 17]\n",
      "[       nan 1.73205081 2.23606798]\n"
     ]
    }
   ],
   "source": [
    "import tensorflow as tf\n",
    "\n",
    "def showvalue(t):\n",
    "    sess = tf.InteractiveSession()\n",
    "    tf.global_variables_initializer().run()\n",
    "    print(t.eval())\n",
    "    sess.close()\n",
    "    \n",
    "c2, c3 = tf.constant([1.2,5.6]), tf.constant([-4,-1,7])\n",
    "v2, v3 = tf.Variable([2.3,4.5]), tf.Variable([-2,3,5])\n",
    "showvalue(tf.add_n([c2,v2]))\n",
    "showvalue(tf.add_n([c3,v3,v3]))\n",
    "showvalue(tf.sqrt(tf.cast(v3, tf.float64 )))"
   ]
  },
  {
   "cell_type": "code",
   "execution_count": 5,
   "metadata": {},
   "outputs": [
    {
     "name": "stdout",
     "output_type": "stream",
     "text": [
      "[[1 3 5]\n",
      " [0 2 4]]\n",
      "--------------------\n",
      "[[50 68]\n",
      " [38 50]]\n",
      "--------------------\n",
      "[[ 1  7 13]\n",
      " [ 3 23 43]\n",
      " [ 8 42 76]]\n"
     ]
    }
   ],
   "source": [
    "c4 = tf.constant([[1,3,5],[0,2,4]])\n",
    "v4 = tf.Variable([[1,2],[3,7],[8,9]])\n",
    "showvalue(c4)\n",
    "print('--------------------')\n",
    "showvalue(tf.matmul(c4,v4))\n",
    "print('--------------------')\n",
    "showvalue(tf.matmul(v4,c4))"
   ]
  },
  {
   "cell_type": "markdown",
   "metadata": {},
   "source": [
    "#### 차원 축소, 차원 확대\n",
    "- 차원 축소 : 매트릭스 행x열 감소 : 특징추출\n",
    "- 차원 확대 : 퍼셉트론 기법( 표면 상의 점을 하나의 선으로 나눌 수 없을 때, 다른 공간으로 분리)"
   ]
  },
  {
   "cell_type": "code",
   "execution_count": 11,
   "metadata": {},
   "outputs": [
    {
     "name": "stdout",
     "output_type": "stream",
     "text": [
      "[[1. 0. 0. 0.]\n",
      " [0. 1. 0. 0.]\n",
      " [0. 0. 1. 0.]\n",
      " [0. 0. 0. 1.]]\n"
     ]
    }
   ],
   "source": [
    "a = tf.eye(4) #단위행렬, eigenvalue\n",
    "# 행렬 x 역행렬 = 단위행렬\n",
    "r = tf.range(1,5,1)\n",
    "d = tf.diag(r)\n",
    "\n",
    "showvalue(a)"
   ]
  },
  {
   "cell_type": "code",
   "execution_count": 12,
   "metadata": {},
   "outputs": [
    {
     "name": "stdout",
     "output_type": "stream",
     "text": [
      "[1 2 3 4]\n"
     ]
    }
   ],
   "source": [
    "showvalue(r)"
   ]
  },
  {
   "cell_type": "code",
   "execution_count": 13,
   "metadata": {},
   "outputs": [
    {
     "name": "stdout",
     "output_type": "stream",
     "text": [
      "[[1 0 0 0]\n",
      " [0 2 0 0]\n",
      " [0 0 3 0]\n",
      " [0 0 0 4]]\n"
     ]
    }
   ],
   "source": [
    "showvalue(d)"
   ]
  },
  {
   "cell_type": "code",
   "execution_count": 15,
   "metadata": {},
   "outputs": [
    {
     "name": "stdout",
     "output_type": "stream",
     "text": [
      "[[1. 1.]\n",
      " [1. 1.]]\n"
     ]
    },
    {
     "data": {
      "text/plain": [
       "array([[0., 0.],\n",
       "       [0., 0.]], dtype=float32)"
      ]
     },
     "execution_count": 15,
     "metadata": {},
     "output_type": "execute_result"
    }
   ],
   "source": [
    "# 정상 세션 형태\n",
    "a = tf.Variable(tf.ones((2,2)))\n",
    "a\n",
    "\n",
    "sess = tf.Session()\n",
    "sess.run(tf.global_variables_initializer()) # 변수 초기화\n",
    "print(a.eval(session=sess))\n",
    "sess.run(a.assign(tf.zeros((2,2))))\n",
    "sess.run(a)"
   ]
  },
  {
   "cell_type": "code",
   "execution_count": 27,
   "metadata": {},
   "outputs": [
    {
     "name": "stdout",
     "output_type": "stream",
     "text": [
      "[[0.95227146 0.67740774 0.79531825 ... 0.29214978 0.21008277 0.42609882]\n",
      " [0.93323886 0.4174106  0.7148676  ... 0.9705007  0.7974247  0.03802633]\n",
      " [0.91064906 0.32840455 0.39045668 ... 0.56509244 0.4010228  0.5612292 ]\n",
      " ...\n",
      " [0.9667587  0.7631197  0.498304   ... 0.7472609  0.9670266  0.16477144]\n",
      " [0.37495553 0.54664207 0.55696404 ... 0.4295944  0.27721107 0.67970383]\n",
      " [0.37385798 0.18794906 0.61325896 ... 0.31705284 0.50477433 0.29372215]]\n"
     ]
    },
    {
     "data": {
      "image/png": "[encoded data removed]",
      "text/plain": [
       "<Figure size 432x288 with 1 Axes>"
      ]
     },
     "metadata": {
      "needs_background": "light"
     },
     "output_type": "display_data"
    }
   ],
   "source": [
    "import tensorflow as tf\n",
    "#matplotlib inline\n",
    "\n",
    "def run_variable(variable):\n",
    "    tf.global_variables_initializer()\n",
    "    with tf.Session() as sess:\n",
    "        return sess.run(variable)\n",
    "\n",
    "my_distribution = tf.random_uniform((60,40), seed=42) # 같은 값을 포기 위해  seed 값 설정\n",
    "uniform = run_variable(my_distribution)\n",
    "print(uniform)\n",
    "\n",
    "from matplotlib import pyplot as plt\n",
    "\n",
    "plt.grid()\n",
    "# 1 차원 데이터 생성\n",
    "plt.hist(uniform.flatten())\n",
    "plt.show()"
   ]
  },
  {
   "cell_type": "code",
   "execution_count": 28,
   "metadata": {},
   "outputs": [
    {
     "name": "stdout",
     "output_type": "stream",
     "text": [
      "[[1 2 3]\n",
      " [4 5 6]]\n"
     ]
    }
   ],
   "source": [
    "a = tf.constant([1,2,3,4,5,6], shape=[2,3])\n",
    "b = tf.constant([7,8,9,10,11,12], shape=[3,2])\n",
    "c = tf.matmul(a,b)\n",
    "sess = tf.Session()\n",
    "print(sess.run(a))"
   ]
  },
  {
   "cell_type": "code",
   "execution_count": 31,
   "metadata": {},
   "outputs": [
    {
     "name": "stdout",
     "output_type": "stream",
     "text": [
      "[[ 7  8]\n",
      " [ 9 10]\n",
      " [11 12]]\n"
     ]
    }
   ],
   "source": [
    "print(sess.run(b))"
   ]
  },
  {
   "cell_type": "code",
   "execution_count": 33,
   "metadata": {},
   "outputs": [
    {
     "name": "stdout",
     "output_type": "stream",
     "text": [
      "[[ 58  64]\n",
      " [139 154]]\n"
     ]
    }
   ],
   "source": [
    "print(sess.run(c))"
   ]
  },
  {
   "cell_type": "code",
   "execution_count": 39,
   "metadata": {},
   "outputs": [
    {
     "name": "stdout",
     "output_type": "stream",
     "text": [
      "[[1 2 3]\n",
      " [4 5 6]]\n"
     ]
    }
   ],
   "source": [
    "x = a \n",
    "y = tf.transpose(x)\n",
    "print(sess.run(x))"
   ]
  },
  {
   "cell_type": "code",
   "execution_count": 41,
   "metadata": {},
   "outputs": [
    {
     "name": "stdout",
     "output_type": "stream",
     "text": [
      "[[14 32]\n",
      " [32 77]]\n"
     ]
    }
   ],
   "source": [
    "c = tf.matmul(x, y)\n",
    "print(sess.run(c))"
   ]
  },
  {
   "cell_type": "code",
   "execution_count": 44,
   "metadata": {},
   "outputs": [
    {
     "name": "stdout",
     "output_type": "stream",
     "text": [
      "[[[[  22   28]\n",
      "   [  49   64]]\n",
      "\n",
      "  [[ 220  244]\n",
      "   [ 301  334]]]\n",
      "\n",
      "\n",
      " [[[ 634  676]\n",
      "   [ 769  820]]\n",
      "\n",
      "  [[1264 1324]\n",
      "   [1453 1522]]]]\n"
     ]
    }
   ],
   "source": [
    "import numpy as np\n",
    "\n",
    "a = tf.constant(np.arange(1,25,dtype=np.int32),\n",
    "               shape=[2,2,2,3])\n",
    "b = tf.constant(np.arange(1,25, dtype=np.int32),\n",
    "              shape=[2,2,3,2])\n",
    "c = tf.matmul(a,b)\n",
    "print(sess.run(c))"
   ]
  },
  {
   "cell_type": "code",
   "execution_count": 47,
   "metadata": {},
   "outputs": [
    {
     "name": "stdout",
     "output_type": "stream",
     "text": [
      "[[[[  22   28]\n",
      "   [  49   64]]\n",
      "\n",
      "  [[ 220  244]\n",
      "   [ 301  334]]]\n",
      "\n",
      "\n",
      " [[[ 634  676]\n",
      "   [ 769  820]]\n",
      "\n",
      "  [[1264 1324]\n",
      "   [1453 1522]]]]\n"
     ]
    }
   ],
   "source": [
    "a_1 = tf.range(1,25,1, dtype=tf.float32)\n",
    "a = tf.reshape(b, (2,2,2,3))\n",
    "b_1 = tf.range(1,25,1, dtype=tf.float32)\n",
    "b = tf.reshape(b, (2,2,3,2))\n",
    "c = tf.matmul(a,b)\n",
    "print(sess.run(c))"
   ]
  },
  {
   "cell_type": "code",
   "execution_count": 51,
   "metadata": {},
   "outputs": [],
   "source": [
    "x = tf.constant([[[1,2,3],\n",
    "                [4,5,6]],\n",
    "               [[7,8,9],\n",
    "               [10,11,12]]])"
   ]
  },
  {
   "cell_type": "code",
   "execution_count": 54,
   "metadata": {},
   "outputs": [
    {
     "name": "stdout",
     "output_type": "stream",
     "text": [
      "[2 2 3]\n"
     ]
    }
   ],
   "source": [
    "print(sess.run(tf.shape(x)))"
   ]
  },
  {
   "cell_type": "code",
   "execution_count": 58,
   "metadata": {},
   "outputs": [
    {
     "name": "stdout",
     "output_type": "stream",
     "text": [
      "[[[ 1  2  3]\n",
      "  [ 4  5  6]]\n",
      "\n",
      " [[ 7  8  9]\n",
      "  [10 11 12]]]\n"
     ]
    }
   ],
   "source": [
    "print(sess.run(x))"
   ]
  },
  {
   "cell_type": "code",
   "execution_count": 55,
   "metadata": {},
   "outputs": [],
   "source": [
    "# 0: 면, 1: 행, 2:열\n",
    "y = tf.transpose(x, perm=[0,2,1])"
   ]
  },
  {
   "cell_type": "code",
   "execution_count": 56,
   "metadata": {},
   "outputs": [
    {
     "name": "stdout",
     "output_type": "stream",
     "text": [
      "[[[ 1  4]\n",
      "  [ 2  5]\n",
      "  [ 3  6]]\n",
      "\n",
      " [[ 7 10]\n",
      "  [ 8 11]\n",
      "  [ 9 12]]]\n"
     ]
    }
   ],
   "source": [
    "print(sess.run(y))"
   ]
  },
  {
   "cell_type": "code",
   "execution_count": 57,
   "metadata": {},
   "outputs": [
    {
     "name": "stdout",
     "output_type": "stream",
     "text": [
      "[[[ 14  32]\n",
      "  [ 32  77]]\n",
      "\n",
      " [[194 266]\n",
      "  [266 365]]]\n"
     ]
    }
   ],
   "source": [
    "print(sess.run(tf.matmul(x,y)))"
   ]
  },
  {
   "cell_type": "code",
   "execution_count": 63,
   "metadata": {},
   "outputs": [
    {
     "name": "stdout",
     "output_type": "stream",
     "text": [
      "[[ 1  2  3  4  5  6]\n",
      " [ 7  8  9 10 11 12]]\n",
      "---------------------------\n",
      "[[[ 1  2  3]\n",
      "  [ 4  5  6]]\n",
      "\n",
      " [[ 7  8  9]\n",
      "  [10 11 12]]]\n"
     ]
    }
   ],
   "source": [
    "tensor = [1,2,3,4,5,6,7,8,9,10,11,12]\n",
    "print(sess.run(tf.reshape(tensor, [2,-1])))\n",
    "print('---------------------------')\n",
    "t = tf.reshape(tensor, [-1,6])\n",
    "print(sess.run(tf.reshape(tensor, [2,-1,3])))"
   ]
  },
  {
   "cell_type": "markdown",
   "metadata": {},
   "source": [
    "#### tensor_flow  자료형\n",
    "- constant\n",
    "- variables = weight\n",
    "- placeholder = 실행 시 전달  feeding\n",
    "- variable = 주소값 \n",
    "- name = 이름을 줌으로써, 모델 저장 시 로딩했을 때, 데이터를 불러오기 위한 개념"
   ]
  },
  {
   "cell_type": "code",
   "execution_count": 67,
   "metadata": {},
   "outputs": [],
   "source": [
    "# placeholder\n",
    "# 32 비트 = 4바이트, [] 괄호는 벡터\n",
    "a = tf.placeholder(tf.int32, shape=[2], name='my_input') #tensorboard, 모델 저장 시 원하는 데이터 불러오기 위한 이름 \n",
    "b = tf.reduce_prod(a, name='prod_b')\n",
    "c = tf.reduce_sum(a, name='sum_c')\n",
    "d = tf.add(b,c,name='add_d')"
   ]
  },
  {
   "cell_type": "code",
   "execution_count": 65,
   "metadata": {},
   "outputs": [
    {
     "data": {
      "text/plain": [
       "23"
      ]
     },
     "execution_count": 65,
     "metadata": {},
     "output_type": "execute_result"
    }
   ],
   "source": [
    "sess = tf.Session()\n",
    "# feeding 할 때는, key 데이터 형태로 전달한다 \n",
    "input_dict = {a:np.array([5,3], dtype=np.int32)}\n",
    "# d를 실행할 때, feed_dict = input_dict 값으로 데이터 넣어줘라\n",
    "sess.run(d, feed_dict=input_dict)"
   ]
  },
  {
   "cell_type": "code",
   "execution_count": 68,
   "metadata": {},
   "outputs": [
    {
     "name": "stdout",
     "output_type": "stream",
     "text": [
      "[5 6 7]\n"
     ]
    }
   ],
   "source": [
    "# broadcasting\n",
    "a = tf.constant([1,2,3], name='a')\n",
    "# a+b 충족을 위해 ([4,4,4]) 자동 맞춤\n",
    "b = tf.constant(4, name='b')\n",
    "add_op = a+b\n",
    "\n",
    "with tf.Session() as session:\n",
    "    print(session.run(add_op))"
   ]
  },
  {
   "cell_type": "code",
   "execution_count": 70,
   "metadata": {},
   "outputs": [
    {
     "name": "stdout",
     "output_type": "stream",
     "text": [
      "[[101 102 103]\n",
      " [105 106 107]]\n"
     ]
    }
   ],
   "source": [
    "# broadcasting\n",
    "a = tf.constant([[1,2,3],[4,5,6]], name='a')\n",
    "# a+b 충족을 위해 ([4,4,4]) 자동 맞춤\n",
    "b = tf.constant([[100],[101]], name='b')\n",
    "add_op = a+b\n"
   ]
  },
  {
   "cell_type": "code",
   "execution_count": null,
   "metadata": {},
   "outputs": [],
   "source": [
    "# placeholder\n",
    "# 32 비트 = 4바이트, [] 괄호는 벡터\n",
    "a = tf.placeholder(tf.int32, shape=[2], name='my_input') #tensorboard, 모델 저장 시 원하는 데이터 불러오기 위한 이름 \n",
    "b = tf.reduce_prod(a, name='prod_b')\n",
    "c = tf.reduce_sum(a, name='sum_c')\n",
    "d = tf.add(b,c,name='add_d')"
   ]
  },
  {
   "cell_type": "code",
   "execution_count": null,
   "metadata": {},
   "outputs": [],
   "source": [
    "sess = tf.Session()\n",
    "# feeding 할 때는, key 데이터 형태로 전달한다 \n",
    "input_dict = {a:np.array([5,3], dtype=np.int32)}\n",
    "# d를 실행할 때, feed_dict = input_dict 값으로 데이터 넣어줘라\n",
    "sess.run(d, feed_dict=input_dict)"
   ]
  },
  {
   "cell_type": "code",
   "execution_count": 78,
   "metadata": {},
   "outputs": [
    {
     "name": "stdout",
     "output_type": "stream",
     "text": [
      "5\n"
     ]
    }
   ],
   "source": [
    "# 문제 호출방법: add, feed_dict = {a:2, b:3}\n",
    "\n",
    "import tensorflow as tf\n",
    "\n",
    "a = tf.placeholder(tf.int16)\n",
    "b = tf.placeholder(tf.int16)\n",
    "add = tf.add(a,b)\n",
    "\n",
    "with tf.Session() as sess:\n",
    "    print(sess.run(add, feed_dict={a:2, b:3}))"
   ]
  },
  {
   "cell_type": "code",
   "execution_count": 82,
   "metadata": {},
   "outputs": [
    {
     "name": "stdout",
     "output_type": "stream",
     "text": [
      "5\n",
      "6\n",
      "30\n"
     ]
    }
   ],
   "source": [
    "import tensorflow as tf\n",
    "\n",
    "a = tf.placeholder(tf.int16)\n",
    "b = tf.placeholder(tf.int16)\n",
    "add = tf.add(a,b)\n",
    "mul = tf.multiply(a,b)\n",
    "total = tf.multiply(add, mul)\n",
    "with tf.Session() as sess:\n",
    "    print(sess.run(add, feed_dict={a:2, b:3}))\n",
    "    print(sess.run(mul, feed_dict={a:2, b:3}))\n",
    "    print(sess.run(total, feed_dict={a:2, b:3}))"
   ]
  },
  {
   "cell_type": "code",
   "execution_count": 86,
   "metadata": {},
   "outputs": [
    {
     "name": "stdout",
     "output_type": "stream",
     "text": [
      "0\n",
      "1\n",
      "3\n",
      "6\n",
      "10\n",
      "15\n",
      "21\n",
      "28\n",
      "36\n",
      "45\n",
      "1~10부터 100까지 합은 165\n"
     ]
    }
   ],
   "source": [
    "# 1~10까지 더하는 프로그램\n",
    "x = tf.Variable(0, name='x')\n",
    "hap = tf.Variable(0, name='hap')\n",
    "\n",
    "model = tf.global_variables_initializer()\n",
    "with tf.Session() as sess:\n",
    "    sess.run(model)\n",
    "    for i in range(10):\n",
    "        x = x +i\n",
    "        hap = hap+x\n",
    "        print(sess.run(x))\n",
    "    print('1~10부터 100까지 합은 {}'.format(sess.run(hap)))"
   ]
  },
  {
   "cell_type": "code",
   "execution_count": null,
   "metadata": {},
   "outputs": [],
   "source": [
    "# 방정식 생성 프로그램\n",
    "res = []\n",
    "for i in range(10):\n",
    "    for j in range(10):\n",
    "        "
   ]
  },
  {
   "cell_type": "code",
   "execution_count": 99,
   "metadata": {},
   "outputs": [
    {
     "name": "stdout",
     "output_type": "stream",
     "text": [
      "2.00x+ 6.00\n"
     ]
    }
   ],
   "source": [
    "# 회귀 방적식의 계수와 절편 \n",
    "x = tf.placeholder('float')\n",
    "y = tf.placeholder('float')\n",
    "w = tf.Variable([0.0, 0.0], name='w')\n",
    "\n",
    "y_model = tf.multiply(x, w[0]) +w[1]\n",
    "error = tf.square(y-y_model)\n",
    "\n",
    "train_op = tf.train.GradientDescentOptimizer(0.01).minimize(error)\n",
    "model = tf.global_variables_initializer()\n",
    "\n",
    "with tf.Session() as sess:\n",
    "    sess.run(model)\n",
    "    for i in range(10000):\n",
    "        x_value = np.random.rand()\n",
    "        y_value = x_value *2 + 6\n",
    "        sess.run(train_op, feed_dict={x: x_value, y: y_value})\n",
    "    w_value = sess.run(w)\n",
    "    print('{a:.2f}x+ {b:.2f}'.format(a=w_value[0], b=w_value[1]))"
   ]
  },
  {
   "cell_type": "code",
   "execution_count": null,
   "metadata": {},
   "outputs": [],
   "source": []
  }
 ],
 "metadata": {
  "kernelspec": {
   "display_name": "Python 3",
   "language": "python",
   "name": "python3"
  },
  "language_info": {
   "codemirror_mode": {
    "name": "ipython",
    "version": 3
   },
   "file_extension": ".py",
   "mimetype": "text/x-python",
   "name": "python",
   "nbconvert_exporter": "python",
   "pygments_lexer": "ipython3",
   "version": "3.7.3"
  }
 },
 "nbformat": 4,
 "nbformat_minor": 2
}
