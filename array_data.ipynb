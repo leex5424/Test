{
 "cells": [
  {
   "cell_type": "markdown",
   "metadata": {},
   "source": [
    "### Array 데이터 자동화 코드"
   ]
  },
  {
   "cell_type": "code",
   "execution_count": 1,
   "metadata": {},
   "outputs": [],
   "source": [
    "from os import listdir\n",
    "from os.path import isfile, join\n",
    "\n",
    "from mpl_toolkits.mplot3d import Axes3D\n",
    "import matplotlib.pyplot as plt\n",
    "import numpy as np\n",
    "import pandas as pd\n",
    "import scipy.io"
   ]
  },
  {
   "cell_type": "code",
   "execution_count": 2,
   "metadata": {},
   "outputs": [],
   "source": [
    "# numpy의 shape을 보여주는 함수 \n",
    "def pprint(arr):\n",
    "    print(\"type:{}\".format(type(arr)))\n",
    "    print(\"shape: {}, dimension: {}, dtype:{}\".format(arr.shape, arr.ndim, arr.dtype))\n",
    "    print(\"Array's Data:\\n\", arr)"
   ]
  },
  {
   "cell_type": "code",
   "execution_count": 3,
   "metadata": {},
   "outputs": [],
   "source": [
    "# path 지정\n",
    "coordinate_path = 'D:\\dev\\workspace\\Geometry\\Authalic\\data\\coordinate'\n",
    "curvature_path = 'D:\\dev\\workspace\\Geometry\\Authalic\\data\\curvature'"
   ]
  },
  {
   "cell_type": "code",
   "execution_count": 4,
   "metadata": {},
   "outputs": [
    {
     "data": {
      "text/plain": [
       "'D:\\\\dev\\\\workspace\\\\Geometry\\\\Authalic\\\\data\\\\coordinate'"
      ]
     },
     "execution_count": 4,
     "metadata": {},
     "output_type": "execute_result"
    }
   ],
   "source": [
    "coordinate_path"
   ]
  },
  {
   "cell_type": "code",
   "execution_count": 6,
   "metadata": {},
   "outputs": [
    {
     "data": {
      "text/plain": [
       "'airplane01.mat'"
      ]
     },
     "execution_count": 6,
     "metadata": {},
     "output_type": "execute_result"
    }
   ],
   "source": [
    "listdir(coordinate_path)[0]"
   ]
  },
  {
   "cell_type": "code",
   "execution_count": 8,
   "metadata": {},
   "outputs": [],
   "source": [
    "# 폴더 안 파일명칭 리트스 내역으로 정리\n",
    "coordinate_file = [f for f in listdir(coordinate_path) if isfile(join(coordinate_path, f))]\n",
    "curvature_file = [f for f in listdir(curvature_path) if isfile(join(curvature_path, f))]"
   ]
  },
  {
   "cell_type": "code",
   "execution_count": 12,
   "metadata": {},
   "outputs": [
    {
     "data": {
      "text/plain": [
       "['airplane01.mat',\n",
       " 'airplane02.mat',\n",
       " 'airplane03.mat',\n",
       " 'airplane04.mat',\n",
       " 'airplane05.mat',\n",
       " 'airplane06.mat',\n",
       " 'airplane07.mat',\n",
       " 'airplane08.mat',\n",
       " 'airplane09.mat',\n",
       " 'airplane10.mat']"
      ]
     },
     "execution_count": 12,
     "metadata": {},
     "output_type": "execute_result"
    }
   ],
   "source": [
    "coordinate_file[:10]"
   ]
  },
  {
   "cell_type": "code",
   "execution_count": 11,
   "metadata": {},
   "outputs": [
    {
     "data": {
      "text/plain": [
       "['airplane01_curvature.mat',\n",
       " 'airplane02_curvature.mat',\n",
       " 'airplane03_curvature.mat',\n",
       " 'airplane04_curvature.mat',\n",
       " 'airplane05_curvature.mat']"
      ]
     },
     "execution_count": 11,
     "metadata": {},
     "output_type": "execute_result"
    }
   ],
   "source": [
    "curvature_file[:5]"
   ]
  },
  {
   "cell_type": "code",
   "execution_count": 13,
   "metadata": {},
   "outputs": [
    {
     "data": {
      "text/plain": [
       "200"
      ]
     },
     "execution_count": 13,
     "metadata": {},
     "output_type": "execute_result"
    }
   ],
   "source": [
    "len(coordinate_file)"
   ]
  },
  {
   "cell_type": "code",
   "execution_count": 14,
   "metadata": {},
   "outputs": [],
   "source": [
    "# 파일 경로 및 명칭 생성\n",
    "coordinate_list = []\n",
    "for i in range(len(coordinate_file)):\n",
    "    \n",
    "    List = coordinate_path +'\\\\'+ coordinate_file[i]\n",
    "    coordinate_list.append(List)"
   ]
  },
  {
   "cell_type": "code",
   "execution_count": 17,
   "metadata": {},
   "outputs": [
    {
     "data": {
      "text/plain": [
       "['D:\\\\dev\\\\workspace\\\\Geometry\\\\Authalic\\\\data\\\\coordinate\\\\airplane01.mat',\n",
       " 'D:\\\\dev\\\\workspace\\\\Geometry\\\\Authalic\\\\data\\\\coordinate\\\\airplane02.mat',\n",
       " 'D:\\\\dev\\\\workspace\\\\Geometry\\\\Authalic\\\\data\\\\coordinate\\\\airplane03.mat',\n",
       " 'D:\\\\dev\\\\workspace\\\\Geometry\\\\Authalic\\\\data\\\\coordinate\\\\airplane04.mat',\n",
       " 'D:\\\\dev\\\\workspace\\\\Geometry\\\\Authalic\\\\data\\\\coordinate\\\\airplane05.mat']"
      ]
     },
     "execution_count": 17,
     "metadata": {},
     "output_type": "execute_result"
    }
   ],
   "source": [
    "coordinate_list[:5]"
   ]
  },
  {
   "cell_type": "code",
   "execution_count": 19,
   "metadata": {},
   "outputs": [],
   "source": [
    "x_coordinate_0 = scipy.io.loadmat(coordinate_list[0])['gim'][:,:,0]\n",
    "x_coordinate_1 = scipy.io.loadmat(coordinate_list[1])['gim'][:,:,0]"
   ]
  },
  {
   "cell_type": "code",
   "execution_count": 45,
   "metadata": {},
   "outputs": [],
   "source": [
    "# 대량의 mat 파일을 리스트 형식으로 저장\n",
    "X_list = []\n",
    "Y_list = []\n",
    "Z_list = []\n",
    "\n",
    "for i in coordinate_list:\n",
    "    x_coordinate = scipy.io.loadmat(i)['gim'][:,:,0]\n",
    "    X_list.append(x_coordinate)\n",
    "    y_coordinate = scipy.io.loadmat(i)['gim'][:,:,1]\n",
    "    Y_list.append(y_coordinate)\n",
    "    z_coordinate = scipy.io.loadmat(i)['gim'][:,:,2]\n",
    "    Z_list.append(z_coordinate)"
   ]
  },
  {
   "cell_type": "code",
   "execution_count": 78,
   "metadata": {},
   "outputs": [
    {
     "data": {
      "text/plain": [
       "128"
      ]
     },
     "execution_count": 78,
     "metadata": {},
     "output_type": "execute_result"
    }
   ],
   "source": [
    "x_coordinate.shape[0]"
   ]
  },
  {
   "cell_type": "code",
   "execution_count": 74,
   "metadata": {},
   "outputs": [],
   "source": [
    "# CNN Input Data 생성\n",
    "'''원하는 형태 (n,row,column,channel) = (200, 128, 128, 3)'''\n",
    "\n",
    "xyz = np.zeros((len(coordinate_list),x_coordinate.shape[0],x_coordinate.shape[1],3))\n",
    "\n",
    "for i in range(len(coordinate_list)):\n",
    "    for j in range(x_coordinate.shape[0]):\n",
    "        for k in range(x_coordinate.shape[1]):\n",
    "            xyz[i][j][k][0] = X_list[i][j][k]\n",
    "            xyz[i][j][k][1] = Y_list[i][j][k]\n",
    "            xyz[i][j][k][2] = Z_list[i][j][k]"
   ]
  },
  {
   "cell_type": "code",
   "execution_count": 83,
   "metadata": {},
   "outputs": [
    {
     "data": {
      "text/plain": [
       "(200, 128, 128, 3)"
      ]
     },
     "execution_count": 83,
     "metadata": {},
     "output_type": "execute_result"
    }
   ],
   "source": [
    "#최종 형태 확인\n",
    "xyz.shape"
   ]
  },
  {
   "cell_type": "code",
   "execution_count": 86,
   "metadata": {},
   "outputs": [],
   "source": [
    "# numpy 형태로 데이터 저장\n",
    "np.save('D:/dev/workspace/Geometry/Authalic/data/Train.npy', xyz)"
   ]
  }
 ],
 "metadata": {
  "kernelspec": {
   "display_name": "DeepLearning",
   "language": "python",
   "name": "deeplearning"
  },
  "language_info": {
   "codemirror_mode": {
    "name": "ipython",
    "version": 3
   },
   "file_extension": ".py",
   "mimetype": "text/x-python",
   "name": "python",
   "nbconvert_exporter": "python",
   "pygments_lexer": "ipython3",
   "version": "3.6.8"
  }
 },
 "nbformat": 4,
 "nbformat_minor": 2
}
