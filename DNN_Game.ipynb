{
 "cells": [
  {
   "cell_type": "markdown",
   "metadata": {},
   "source": [
    "### DNN 게임 예제"
   ]
  },
  {
   "cell_type": "code",
   "execution_count": 1,
   "metadata": {},
   "outputs": [],
   "source": [
    "import tensorflow as tf\n",
    "import matplotlib.pyplot as plt\n",
    "import csv\n",
    "import numpy as np\n",
    "import random\n",
    "from tensorflow.python.framework import ops\n",
    "ops.reset_default_graph()"
   ]
  },
  {
   "cell_type": "code",
   "execution_count": 22,
   "metadata": {},
   "outputs": [],
   "source": [
    "response = 6\n",
    "batch_size = 50"
   ]
  },
  {
   "cell_type": "code",
   "execution_count": 2,
   "metadata": {},
   "outputs": [],
   "source": [
    "def print_board(board):\n",
    "    symbols = ['O',' ','X']\n",
    "    board_plus1 = [int(x) + 1 for x in board]\n",
    "    print(' ' + symbols[board_plus1[0]] + ' | ' + symbols[board_plus1[1]]\n",
    "          + ' | ' + symbols[board_plus1[2]])\n",
    "    print('___________')\n",
    "    print(' ' + symbols[board_plus1[3]] + ' | ' + symbols[board_plus1[4]]\n",
    "          + ' | ' + symbols[board_plus1[5]])\n",
    "    print('___________')\n",
    "    print(' ' + symbols[board_plus1[6]] + ' | ' + symbols[board_plus1[7]]\n",
    "          + ' | ' + symbols[board_plus1[8]])"
   ]
  },
  {
   "cell_type": "code",
   "execution_count": 3,
   "metadata": {},
   "outputs": [],
   "source": [
    "def get_symmetry(board, response, transformation):\n",
    "    if transformation == 'rotate180':\n",
    "        new_response = 8 - response\n",
    "        return(board[::-1], new_response)\n",
    "   \n",
    "    elif transformation == 'rotate90':\n",
    "        new_response = [6, 3, 0, 7, 4, 1, 8, 5, 2].index(response)\n",
    "        tuple_board = list(zip(*[board[6:9], board[3:6], board[0:3]]))\n",
    "        return([value for item in tuple_board for value in item],\n",
    "               new_response)\n",
    "   \n",
    "    elif transformation == 'rotate270':\n",
    "        new_response = [2, 5, 8, 1, 4, 7, 0, 3, 6].index(response)\n",
    "        tuple_board = list(zip(*[board[0:3], board[3:6], board[6:9]]))[::-1]\n",
    "        return([value for item in tuple_board for value in item],\n",
    "               new_response)\n",
    "   \n",
    "    elif transformation == 'flip_v': # 0 1 2 , 3 4 5 , 6 7 8\n",
    "        new_response = [6, 7, 8, 3, 4, 5, 0, 1, 2].index(response)\n",
    "        return(board[6:9] +  board[3:6] + board[0:3], new_response)\n",
    "   \n",
    "    elif transformation == 'flip_h': \n",
    "        new_response = [2, 1, 0, 5, 4, 3, 8, 7, 6].index(response)\n",
    "        new_board = board[::-1]\n",
    "        return(new_board[6:9] +  new_board[3:6] + new_board[0:3],\n",
    "               new_response)\n",
    "    else:\n",
    "        raise ValueError('해당하는 경우가 없음')\n"
   ]
  },
  {
   "cell_type": "code",
   "execution_count": 4,
   "metadata": {},
   "outputs": [],
   "source": [
    "def get_moves_from_csv(csv_file):\n",
    "    moves = []\n",
    "    with open(csv_file, 'rt') as csvfile:\n",
    "        reader = csv.reader(csvfile, delimiter=',')\n",
    "        for row in reader:\n",
    "            moves.append(([int(x) for x in row[0:9]],int(row[9])))\n",
    "    return(moves)\n",
    "\n",
    "def get_rand_move(moves, n=1, rand_transforms=2):\n",
    "    (board, response) = random.choice(moves)\n",
    "    possible_transforms = ['rotate90', 'rotate180', 'rotate270',\n",
    "                           'flip_v', 'flip_h']\n",
    "    for i in range(rand_transforms):\n",
    "        random_transform = random.choice(possible_transforms)\n",
    "        (board, response) = get_symmetry(board, response, random_transform)\n",
    "    return(board, response)"
   ]
  },
  {
   "cell_type": "code",
   "execution_count": 5,
   "metadata": {},
   "outputs": [],
   "source": [
    "moves = get_moves_from_csv('./data/tictactoe_moves.csv')"
   ]
  },
  {
   "cell_type": "code",
   "execution_count": 7,
   "metadata": {},
   "outputs": [
    {
     "name": "stdout",
     "output_type": "stream",
     "text": [
      "[]\n"
     ]
    }
   ],
   "source": [
    "train_length = 500\n",
    "train_set = []\n",
    "print(train_set)"
   ]
  },
  {
   "cell_type": "code",
   "execution_count": 9,
   "metadata": {},
   "outputs": [
    {
     "name": "stdout",
     "output_type": "stream",
     "text": [
      "1000\n"
     ]
    }
   ],
   "source": [
    "for t in range(train_length):\n",
    "    train_set.append(get_rand_move(moves))\n",
    "print(len(train_set))\n",
    "#print(train_set)"
   ]
  },
  {
   "cell_type": "code",
   "execution_count": 12,
   "metadata": {},
   "outputs": [],
   "source": [
    "test_board = [-1,0,0,1,-1,-1,0,0,1]\n",
    "train_set = [x for x in train_set if x[0] != test_board]\n",
    "#print(train_set)"
   ]
  },
  {
   "cell_type": "code",
   "execution_count": 13,
   "metadata": {},
   "outputs": [],
   "source": [
    "def init_weights(shape):\n",
    "    return(tf.Variable(tf.random_normal(shape)))\n",
    "\n",
    "\n",
    "def model(X, A1, A2, bias1, bias2):\n",
    "    layer1 = tf.nn.sigmoid(tf.add(tf.matmul(X, A1), bias1))\n",
    "    layer2 = tf.add(tf.matmul(layer1, A2), bias2)\n",
    "    return(layer2)"
   ]
  },
  {
   "cell_type": "code",
   "execution_count": 15,
   "metadata": {},
   "outputs": [],
   "source": [
    "X = tf.placeholder(dtype =tf.float32, shape=[None,9])\n",
    "Y = tf.placeholder(dtype=tf.int32, shape=[None])\n",
    "\n",
    "A1 = init_weights([9,81])\n",
    "bias1 = init_weights([81])\n",
    "A2 = init_weights([81,9])\n",
    "bias2 = init_weights([9])\n",
    "\n",
    "model_output = model(X, A1, A2, bias1, bias2)"
   ]
  },
  {
   "cell_type": "code",
   "execution_count": 16,
   "metadata": {},
   "outputs": [],
   "source": [
    "loss = tf.reduce_mean(tf.nn.sparse_softmax_cross_entropy_with_logits(\n",
    "    logits=model_output, labels=Y))"
   ]
  },
  {
   "cell_type": "code",
   "execution_count": 18,
   "metadata": {},
   "outputs": [],
   "source": [
    "train_step = tf.train.GradientDescentOptimizer(0.025).minimize(loss)"
   ]
  },
  {
   "cell_type": "code",
   "execution_count": 19,
   "metadata": {},
   "outputs": [],
   "source": [
    "prediction =  tf.argmax(model_output,1)"
   ]
  },
  {
   "cell_type": "code",
   "execution_count": 24,
   "metadata": {},
   "outputs": [
    {
     "name": "stdout",
     "output_type": "stream",
     "text": [
      "iteration 0Loss:9.5715\n",
      "iteration 500Loss:1.9686471\n",
      "iteration 1000Loss:1.542092\n",
      "iteration 1500Loss:1.3021549\n",
      "iteration 2000Loss:1.4759915\n",
      "iteration 2500Loss:1.1099411\n",
      "iteration 3000Loss:1.2100408\n",
      "iteration 3500Loss:1.4222662\n",
      "iteration 4000Loss:1.0541872\n",
      "iteration 4500Loss:0.9218242\n",
      "iteration 5000Loss:1.1086181\n",
      "iteration 5500Loss:1.0657312\n",
      "iteration 6000Loss:1.0219214\n",
      "iteration 6500Loss:0.9221954\n",
      "iteration 7000Loss:0.8541118\n",
      "iteration 7500Loss:0.8989351\n",
      "iteration 8000Loss:0.9460545\n",
      "iteration 8500Loss:0.72636384\n",
      "iteration 9000Loss:0.8455609\n",
      "iteration 9500Loss:0.7119677\n"
     ]
    }
   ],
   "source": [
    "sess = tf.Session()\n",
    "init = tf.global_variables_initializer()\n",
    "sess.run(init)\n",
    "\n",
    "loss_vec = []\n",
    "for i in range(10000):\n",
    "    rand_indices = np.random.choice(range(len(train_set)), batch_size, replace=False)\n",
    "    batch_data =[train_set[i] for i in rand_indices]\n",
    "    x_input = [x[0] for x in batch_data]\n",
    "    y_target = np.array([y[1] for y in batch_data])\n",
    "    sess.run(train_step, feed_dict = {X: x_input, Y:y_target})\n",
    "    temp_loss = sess.run(loss, feed_dict = {X:x_input, Y: y_target})\n",
    "    loss_vec.append(temp_loss)\n",
    "    if i%500==0:\n",
    "        print('iteration ' + str(i) + 'Loss:' + str(temp_loss))"
   ]
  },
  {
   "cell_type": "code",
   "execution_count": 25,
   "metadata": {},
   "outputs": [
    {
     "data": {
      "image/png": "[encoded data removed]",
      "text/plain": [
       "<Figure size 432x288 with 1 Axes>"
      ]
     },
     "metadata": {
      "needs_background": "light"
     },
     "output_type": "display_data"
    }
   ],
   "source": [
    "plt.plot(loss_vec, 'k-', label ='Loss')\n",
    "plt.title('Loss (MSE)')\n",
    "plt.xlabel('Generation')\n",
    "plt.ylabel('Loss')\n",
    "plt.show()"
   ]
  },
  {
   "cell_type": "code",
   "execution_count": 26,
   "metadata": {},
   "outputs": [
    {
     "name": "stdout",
     "output_type": "stream",
     "text": [
      "[6]\n"
     ]
    }
   ],
   "source": [
    "test_boards = [test_board]\n",
    "feed_dict = {X: test_boards}\n",
    "logits = sess.run(model_output, feed_dict = feed_dict)\n",
    "predictions = sess.run(prediction, feed_dict = feed_dict)\n",
    "print(predictions)"
   ]
  },
  {
   "cell_type": "code",
   "execution_count": 31,
   "metadata": {},
   "outputs": [],
   "source": [
    "def check(board):\n",
    "    wins = [[0,1,2], [3,4,5], [6,7,8], [0,3,6], [1,4,7], [2,5,8],\n",
    "            [0,4,8], [2,4,6]]\n",
    "    \n",
    "    for i in range(len(wins)):\n",
    "        if board[wins[i][0]]==board[wins[i][1]]==board[wins[i][2]]==1.:\n",
    "            return 1\n",
    "        elif board[wins[i][0]]==board[wins[i][1]]==board[wins[i][2]]==-1.:\n",
    "            return -1\n",
    "    \n",
    "    return 0"
   ]
  },
  {
   "cell_type": "code",
   "execution_count": 34,
   "metadata": {},
   "outputs": [],
   "source": [
    "game_tracker = [0.,0.,0.,0.,0.,0.,0.,0.,0.]\n",
    "win_logical = False\n",
    "num_moves =0\n"
   ]
  },
  {
   "cell_type": "code",
   "execution_count": 35,
   "metadata": {},
   "outputs": [
    {
     "name": "stdin",
     "output_type": "stream",
     "text": [
      "이동하고 싶은 인덱스를 입력하시오 (0-8): 5\n"
     ]
    },
    {
     "name": "stdout",
     "output_type": "stream",
     "text": [
      "모델이 이동하였습니다\n",
      "   |   |  \n",
      "___________\n",
      "   |   | X\n",
      "___________\n",
      "   |   | O\n"
     ]
    },
    {
     "name": "stdin",
     "output_type": "stream",
     "text": [
      "이동하고 싶은 인덱스를 입력하시오 (0-8): 5\n"
     ]
    },
    {
     "name": "stdout",
     "output_type": "stream",
     "text": [
      "모델이 이동하였습니다\n",
      "   |   |  \n",
      "___________\n",
      "   | O | X\n",
      "___________\n",
      "   |   | O\n"
     ]
    },
    {
     "name": "stdin",
     "output_type": "stream",
     "text": [
      "이동하고 싶은 인덱스를 입력하시오 (0-8): 5\n"
     ]
    },
    {
     "name": "stdout",
     "output_type": "stream",
     "text": [
      "모델이 이동하였습니다\n",
      "   |   | O\n",
      "___________\n",
      "   | O | X\n",
      "___________\n",
      "   |   | O\n"
     ]
    },
    {
     "name": "stdin",
     "output_type": "stream",
     "text": [
      "이동하고 싶은 인덱스를 입력하시오 (0-8): 5\n"
     ]
    },
    {
     "name": "stdout",
     "output_type": "stream",
     "text": [
      "모델이 이동하였습니다\n",
      "   |   | O\n",
      "___________\n",
      "   | O | X\n",
      "___________\n",
      " O |   | O\n",
      "게임 종료! 게임에 지셨습니다. \n"
     ]
    }
   ],
   "source": [
    "while not win_logical:\n",
    "    player_index = input('이동하고 싶은 인덱스를 입력하시오 (0-8):')\n",
    "    num_moves += 1\n",
    "    game_tracker[int(player_index)] = 1.\n",
    "    \n",
    "    # 가중치 자동 계산\n",
    "    [potential_moves] = sess.run(model_output, \n",
    "                                feed_dict = {X:[game_tracker]})\n",
    "    \n",
    "    # 0인경우만, 컴퓨터가 말을 놓을 수 있음\n",
    "    allowed_moves = [ix for ix, x in enumerate(game_tracker) if x==0.0]\n",
    "    \n",
    "    # 허용된 위치이고 선택된 곳이 말을 놓을 수 있는지 확인\n",
    "    model_move = np.argmax([x if ix in allowed_moves else -999.0\n",
    "                           for ix,x in enumerate(potential_moves)])\n",
    "    game_tracker[int(model_move)] = -1.\n",
    "    print('모델이 이동하였습니다')\n",
    "    \n",
    "    print_board(game_tracker)\n",
    "    if check(game_tracker)==1 or num_moves >=20:\n",
    "        print('게임 종료! 승리하였습니다. ')\n",
    "        win_logical = True\n",
    "        \n",
    "    elif check(game_tracker) == -1:\n",
    "        print('게임 종료! 게임에 지셨습니다. ')\n",
    "        win_logical = True"
   ]
  },
  {
   "cell_type": "code",
   "execution_count": null,
   "metadata": {},
   "outputs": [],
   "source": []
  }
 ],
 "metadata": {
  "kernelspec": {
   "display_name": "Python 3",
   "language": "python",
   "name": "python3"
  },
  "language_info": {
   "codemirror_mode": {
    "name": "ipython",
    "version": 3
   },
   "file_extension": ".py",
   "mimetype": "text/x-python",
   "name": "python",
   "nbconvert_exporter": "python",
   "pygments_lexer": "ipython3",
   "version": "3.7.3"
  }
 },
 "nbformat": 4,
 "nbformat_minor": 4
}
