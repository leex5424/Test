{
 "cells": [
  {
   "cell_type": "markdown",
   "metadata": {},
   "source": [
    "#### Kmeans 군집 분석"
   ]
  },
  {
   "cell_type": "code",
   "execution_count": 1,
   "metadata": {},
   "outputs": [],
   "source": [
    "import tensorflow as tf"
   ]
  },
  {
   "cell_type": "code",
   "execution_count": 2,
   "metadata": {},
   "outputs": [
    {
     "name": "stdout",
     "output_type": "stream",
     "text": [
      "홀일 때 [0 2 3 0 2 3 0 2 3 0 2 3 0 2 3]\n"
     ]
    }
   ],
   "source": [
    "sess = tf.Session()\n",
    "\n",
    "val = [0,2,3]\n",
    "val = tf.tile(val, [5])\n",
    "print('홀일 때', sess.run(val))"
   ]
  },
  {
   "cell_type": "code",
   "execution_count": 34,
   "metadata": {},
   "outputs": [
    {
     "name": "stdout",
     "output_type": "stream",
     "text": [
      "2차원일 때\n",
      " [[1 1 1 1 1 1]\n",
      " [2 2 2 2 2 2]\n",
      " [3 3 3 3 3 3]\n",
      " [1 1 1 1 1 1]\n",
      " [2 2 2 2 2 2]\n",
      " [3 3 3 3 3 3]\n",
      " [1 1 1 1 1 1]\n",
      " [2 2 2 2 2 2]\n",
      " [3 3 3 3 3 3]\n",
      " [1 1 1 1 1 1]\n",
      " [2 2 2 2 2 2]\n",
      " [3 3 3 3 3 3]\n",
      " [1 1 1 1 1 1]\n",
      " [2 2 2 2 2 2]\n",
      " [3 3 3 3 3 3]]\n"
     ]
    }
   ],
   "source": [
    "val = [[1,1,1],[2,2,2],[3,3,3]]\n",
    "val = tf.tile(val, [5,2])\n",
    "\n",
    "print('2차원일 때\\n', sess.run(val))"
   ]
  },
  {
   "cell_type": "code",
   "execution_count": null,
   "metadata": {},
   "outputs": [],
   "source": []
  },
  {
   "cell_type": "code",
   "execution_count": 9,
   "metadata": {},
   "outputs": [
    {
     "name": "stdout",
     "output_type": "stream",
     "text": [
      "차원확대: [[[ 1.  2.]\n",
      "  [ 2.  1.]\n",
      "  [-2. -1.]]]\n"
     ]
    }
   ],
   "source": [
    "input_vecs = [[1.,2.],[2.,1.],[-2.,-1.]]\n",
    "print('차원확대:', sess.run(tf.expand_dims(input_vecs,0))) # 열기준 차원 추가"
   ]
  },
  {
   "cell_type": "code",
   "execution_count": 10,
   "metadata": {},
   "outputs": [
    {
     "name": "stdout",
     "output_type": "stream",
     "text": [
      "차원확대: [[[ 1.  2.]]\n",
      "\n",
      " [[ 2.  1.]]\n",
      "\n",
      " [[-2. -1.]]]\n"
     ]
    }
   ],
   "source": [
    "print('차원확대:', sess.run(tf.expand_dims(input_vecs,1))) # 행기준 차원 추가"
   ]
  },
  {
   "cell_type": "code",
   "execution_count": 12,
   "metadata": {},
   "outputs": [],
   "source": [
    "import numpy as np\n",
    "import matplotlib.pyplot as plt\n",
    "import tensorflow as tf\n",
    "from sklearn import datasets\n",
    "from scipy.spatial import cKDTree\n",
    "from sklearn.decomposition import PCA\n",
    "from sklearn.preprocessing import scale\n",
    "from tensorflow.python.framework import ops"
   ]
  },
  {
   "cell_type": "code",
   "execution_count": 13,
   "metadata": {},
   "outputs": [],
   "source": [
    "ops.reset_default_graph()\n",
    "sess = tf.Session()\n",
    "iris = datasets.load_iris()"
   ]
  },
  {
   "cell_type": "code",
   "execution_count": 25,
   "metadata": {},
   "outputs": [],
   "source": [
    "num_pts = len(iris.data)\n",
    "num_feats = len(iris.data[0])\n",
    "k=3\n",
    "generations = 25\n",
    "data_points = tf.Variable(iris.data)\n",
    "cluster_labels = tf.Variable(tf.zeros([num_pts], dtype=tf.int64))"
   ]
  },
  {
   "cell_type": "code",
   "execution_count": 16,
   "metadata": {},
   "outputs": [
    {
     "data": {
      "text/plain": [
       "150"
      ]
     },
     "execution_count": 16,
     "metadata": {},
     "output_type": "execute_result"
    }
   ],
   "source": [
    "num_pts"
   ]
  },
  {
   "cell_type": "code",
   "execution_count": 17,
   "metadata": {},
   "outputs": [
    {
     "data": {
      "text/plain": [
       "4"
      ]
     },
     "execution_count": 17,
     "metadata": {},
     "output_type": "execute_result"
    }
   ],
   "source": [
    "mum_feats"
   ]
  },
  {
   "cell_type": "code",
   "execution_count": 31,
   "metadata": {},
   "outputs": [
    {
     "data": {
      "text/plain": [
       "<tf.Variable 'Variable_5:0' shape=(150, 4) dtype=float64_ref>"
      ]
     },
     "execution_count": 31,
     "metadata": {},
     "output_type": "execute_result"
    }
   ],
   "source": [
    "data_points"
   ]
  },
  {
   "cell_type": "code",
   "execution_count": 21,
   "metadata": {},
   "outputs": [],
   "source": [
    "# python _의 의미는, 직전에 계산 된 값을 의미\n",
    "# for _ in range(k) : 회수만 사용\n",
    "rand_starts = np.array([iris.data[np.random.choice(len(iris.data))] for _ in range(k)])"
   ]
  },
  {
   "cell_type": "code",
   "execution_count": 22,
   "metadata": {},
   "outputs": [
    {
     "data": {
      "text/plain": [
       "array([[5.2, 3.5, 1.5, 0.2],\n",
       "       [4.8, 3.1, 1.6, 0.2],\n",
       "       [5. , 3.3, 1.4, 0.2]])"
      ]
     },
     "execution_count": 22,
     "metadata": {},
     "output_type": "execute_result"
    }
   ],
   "source": [
    "rand_starts"
   ]
  },
  {
   "cell_type": "code",
   "execution_count": 26,
   "metadata": {},
   "outputs": [],
   "source": [
    "centroids = tf.Variable(rand_starts)\n",
    "\n",
    "# 중심점을 행으로 반복하고 열로는 반복 x\n",
    "centroid_matrix = tf.reshape(tf.tile(centroids, [num_pts, 1]), [num_pts, k, num_feats]) #행수, 군집수, 특징수(계산되는 대상)\n",
    "\n",
    "# 들어오는 데이터 1행 3열\n",
    "point_matrix = tf.reshape(tf.tile(data_points, [1,k]), [num_pts, k, num_feats])"
   ]
  },
  {
   "cell_type": "code",
   "execution_count": 30,
   "metadata": {},
   "outputs": [
    {
     "data": {
      "text/plain": [
       "<tf.Tensor 'Reshape:0' shape=(150, 3, 4) dtype=float64>"
      ]
     },
     "execution_count": 30,
     "metadata": {},
     "output_type": "execute_result"
    }
   ],
   "source": [
    "centroid_matrix"
   ]
  },
  {
   "cell_type": "code",
   "execution_count": 32,
   "metadata": {},
   "outputs": [
    {
     "data": {
      "text/plain": [
       "<tf.Tensor 'Reshape_1:0' shape=(150, 3, 4) dtype=float64>"
      ]
     },
     "execution_count": 32,
     "metadata": {},
     "output_type": "execute_result"
    }
   ],
   "source": [
    "point_matrix"
   ]
  },
  {
   "cell_type": "code",
   "execution_count": 29,
   "metadata": {},
   "outputs": [],
   "source": [
    "# 3차원 빼게 되면, 행(1), 열(2), 면(0) 방향인데 axis=2 열방향으로\n",
    "distances = tf.reduce_sum(tf.square(point_matrix - centroid_matrix), axis=2)\n",
    "\n",
    "centroid_group = tf.argmin(distances, 1)"
   ]
  },
  {
   "cell_type": "code",
   "execution_count": 35,
   "metadata": {},
   "outputs": [
    {
     "data": {
      "text/plain": [
       "<tf.Tensor 'Sum_1:0' shape=(150, 3) dtype=float64>"
      ]
     },
     "execution_count": 35,
     "metadata": {},
     "output_type": "execute_result"
    }
   ],
   "source": [
    "distances"
   ]
  },
  {
   "cell_type": "code",
   "execution_count": 36,
   "metadata": {},
   "outputs": [
    {
     "data": {
      "text/plain": [
       "<tf.Tensor 'ArgMin:0' shape=(150,) dtype=int64>"
      ]
     },
     "execution_count": 36,
     "metadata": {},
     "output_type": "execute_result"
    }
   ],
   "source": [
    "centroid_group"
   ]
  },
  {
   "cell_type": "code",
   "execution_count": 37,
   "metadata": {},
   "outputs": [],
   "source": [
    "# 그룹별로 중심점을 재계산하는 함수\n",
    "\n",
    "def data_group_avg(group_ids, data):\n",
    "    # 3개 그룹 요소 합계\n",
    "    sum_total = tf.unsorted_segment_sum(data, group_ids, 3)\n",
    "    # 그룹 계수 카운트\n",
    "    num_total = tf.unsorted_segment_sum(tf.ones_like(data), group_ids, 3)\n",
    "    # 새로 계산된 중심값\n",
    "    avg_by_group = sum_total/num_total\n",
    "    \n",
    "    return avg_by_group"
   ]
  },
  {
   "cell_type": "code",
   "execution_count": 41,
   "metadata": {},
   "outputs": [
    {
     "data": {
      "text/plain": [
       "array([[5, 5, 5, 5],\n",
       "       [5, 6, 7, 8]])"
      ]
     },
     "execution_count": 41,
     "metadata": {},
     "output_type": "execute_result"
    }
   ],
   "source": [
    "# 예제\n",
    "c = tf.constant([[1,2,3,4],[5,6,7,8],[4,3,2,1]])\n",
    "sess.run(tf.unsorted_segment_sum(c, tf.constant([0,1,0]), num_segments=2))"
   ]
  },
  {
   "cell_type": "code",
   "execution_count": 42,
   "metadata": {},
   "outputs": [],
   "source": [
    "means = data_group_avg(centroid_group, data_points)\n",
    "update = tf.group(centroids.assign(means), cluster_labels.assign(centroid_group))"
   ]
  },
  {
   "cell_type": "code",
   "execution_count": 43,
   "metadata": {},
   "outputs": [
    {
     "data": {
      "text/plain": [
       "<tf.Tensor 'truediv:0' shape=(3, 4) dtype=float64>"
      ]
     },
     "execution_count": 43,
     "metadata": {},
     "output_type": "execute_result"
    }
   ],
   "source": [
    "means"
   ]
  },
  {
   "cell_type": "code",
   "execution_count": 44,
   "metadata": {},
   "outputs": [
    {
     "name": "stdout",
     "output_type": "stream",
     "text": [
      "Calculating gen 0, out of 25\n",
      "Group counts: [69, 73, 8]\n",
      "Calculating gen 1, out of 25\n",
      "Group counts: [73, 27, 50]\n",
      "Calculating gen 2, out of 25\n",
      "Group counts: [66, 34, 50]\n",
      "Calculating gen 3, out of 25\n",
      "Group counts: [63, 37, 50]\n",
      "Calculating gen 4, out of 25\n",
      "Group counts: [59, 41, 50]\n",
      "Calculating gen 5, out of 25\n",
      "Group counts: [54, 46, 50]\n",
      "Calculating gen 6, out of 25\n",
      "Group counts: [50, 50, 50]\n",
      "Calculating gen 7, out of 25\n",
      "Group counts: [46, 54, 50]\n",
      "Calculating gen 8, out of 25\n",
      "Group counts: [43, 57, 50]\n",
      "Calculating gen 9, out of 25\n",
      "Group counts: [40, 60, 50]\n",
      "Calculating gen 10, out of 25\n",
      "Group counts: [39, 61, 50]\n",
      "Calculating gen 11, out of 25\n",
      "Group counts: [39, 61, 50]\n",
      "Calculating gen 12, out of 25\n",
      "Group counts: [39, 61, 50]\n",
      "Calculating gen 13, out of 25\n",
      "Group counts: [39, 61, 50]\n",
      "Calculating gen 14, out of 25\n",
      "Group counts: [39, 61, 50]\n",
      "Calculating gen 15, out of 25\n",
      "Group counts: [39, 61, 50]\n",
      "Calculating gen 16, out of 25\n",
      "Group counts: [39, 61, 50]\n",
      "Calculating gen 17, out of 25\n",
      "Group counts: [39, 61, 50]\n",
      "Calculating gen 18, out of 25\n",
      "Group counts: [39, 61, 50]\n",
      "Calculating gen 19, out of 25\n",
      "Group counts: [39, 61, 50]\n",
      "Calculating gen 20, out of 25\n",
      "Group counts: [39, 61, 50]\n",
      "Calculating gen 21, out of 25\n",
      "Group counts: [39, 61, 50]\n",
      "Calculating gen 22, out of 25\n",
      "Group counts: [39, 61, 50]\n",
      "Calculating gen 23, out of 25\n",
      "Group counts: [39, 61, 50]\n",
      "Calculating gen 24, out of 25\n",
      "Group counts: [39, 61, 50]\n"
     ]
    }
   ],
   "source": [
    "init = tf.global_variables_initializer()\n",
    "sess.run(init)\n",
    "\n",
    "for i in range(generations):\n",
    "    print('Calculating gen {}, out of {}'.format(i, generations))\n",
    "    _, centroid_group_count = sess.run([update, centroid_group])\n",
    "    group_count = []\n",
    "    \n",
    "    for ix in range(k):\n",
    "        group_count.append(np.sum(centroid_group_count ==ix))\n",
    "    print('Group counts: {}'.format(group_count))"
   ]
  },
  {
   "cell_type": "code",
   "execution_count": 45,
   "metadata": {},
   "outputs": [],
   "source": [
    "[centers, assignments] = sess.run([centroids, cluster_labels])"
   ]
  },
  {
   "cell_type": "code",
   "execution_count": 46,
   "metadata": {},
   "outputs": [],
   "source": [
    "def most_common(my_list):\n",
    "    return max(set(my_list), key=my_list.count)"
   ]
  },
  {
   "cell_type": "code",
   "execution_count": 47,
   "metadata": {},
   "outputs": [
    {
     "name": "stdout",
     "output_type": "stream",
     "text": [
      "Accuracy: 0.89\n"
     ]
    }
   ],
   "source": [
    "label0 = most_common(list(assignments[0:50]))\n",
    "label1 = most_common(list(assignments[50:100]))\n",
    "label2 = most_common(list(assignments[100:150]))\n",
    "\n",
    "group0_count = np.sum(assignments[0:50]==label0)\n",
    "group1_count = np.sum(assignments[50:100]==label1)\n",
    "group2_count = np.sum(assignments[100:150]==label2)\n",
    "\n",
    "accuracy = (group0_count + group1_count + group2_count)/150.\n",
    "print('Accuracy: {:.2f}'.format(accuracy))"
   ]
  },
  {
   "cell_type": "code",
   "execution_count": null,
   "metadata": {},
   "outputs": [],
   "source": []
  }
 ],
 "metadata": {
  "kernelspec": {
   "display_name": "Python 3",
   "language": "python",
   "name": "python3"
  },
  "language_info": {
   "codemirror_mode": {
    "name": "ipython",
    "version": 3
   },
   "file_extension": ".py",
   "mimetype": "text/x-python",
   "name": "python",
   "nbconvert_exporter": "python",
   "pygments_lexer": "ipython3",
   "version": "3.7.3"
  }
 },
 "nbformat": 4,
 "nbformat_minor": 4
}
