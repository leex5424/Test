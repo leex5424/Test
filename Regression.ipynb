{
 "cells": [
  {
   "cell_type": "code",
   "execution_count": 1,
   "metadata": {},
   "outputs": [],
   "source": [
    "import tensorflow as tf\n",
    "import numpy\n",
    "import matplotlib.pyplot as plt"
   ]
  },
  {
   "cell_type": "code",
   "execution_count": 34,
   "metadata": {},
   "outputs": [],
   "source": [
    "rng = numpy.random\n",
    "\n",
    "learning_rate = 0.01\n",
    "training_epochs = 1000\n",
    "display_step = 100\n",
    "\n",
    "train_X = numpy.asarray([3.3,4.4,5.5,6.71,6.93,4.168,9.779,6.182,7.59,2.167,\n",
    "                         7.042,10.791,5.313,7.997,5.654,9.27,3.1])\n",
    "train_Y = numpy.asarray([1.7,2.76,2.09,3.19,1.694,1.573,3.366,2.596,2.53,1.221,\n",
    "                         2.827,3.465,1.65,2.904,2.42,2.94,1.3])\n",
    "n_samples = train_X.shape[0] "
   ]
  },
  {
   "cell_type": "code",
   "execution_count": 21,
   "metadata": {},
   "outputs": [],
   "source": [
    "# 변수 설정\n",
    "\n",
    "X = tf.placeholder('float32')\n",
    "Y = tf.placeholder('float32')\n",
    "W = tf.Variable(rng.randn(), name = 'weight')\n",
    "b = tf.Variable(rng.randn(), name = 'bias')"
   ]
  },
  {
   "cell_type": "code",
   "execution_count": 23,
   "metadata": {},
   "outputs": [],
   "source": [
    "# model\n",
    "pred = tf.add(tf.multiply(X, W), b) # w 값이 하나라  multiply (행렬일땐 matmul)\n",
    "\n",
    "#cost function\n",
    "cost = tf.reduce_sum(tf.pow(pred-Y, 2))/(2*n_samples)\n",
    "\n",
    "# optimizer\n",
    "optimizer = tf.train.GradientDescentOptimizer(learning_rate).minimize(cost) #chaining .로 다 붙임\n",
    "\n",
    "# 초기화\n",
    "init = tf.global_variables_initializer()"
   ]
  },
  {
   "cell_type": "code",
   "execution_count": 39,
   "metadata": {},
   "outputs": [
    {
     "name": "stdout",
     "output_type": "stream",
     "text": [
      "Epoch: 100\n",
      " cost=  0.138928 w= 0.6431001 b= -0.20005238\n",
      "Epoch: 200\n",
      " cost=  0.125435 w= 0.6431001 b= -0.08446469\n",
      "Epoch: 300\n",
      " cost=  0.114879 w= 0.6431001 b= 0.017782621\n",
      "Epoch: 400\n",
      " cost=  0.106622 w= 0.6431001 b= 0.10822948\n",
      "Epoch: 500\n",
      " cost=  0.100162 w= 0.6431001 b= 0.18823767\n",
      "Epoch: 600\n",
      " cost=  0.095109 w= 0.6431001 b= 0.25901154\n",
      "Epoch: 700\n",
      " cost=  0.091157 w= 0.6431001 b= 0.321618\n",
      "Epoch: 800\n",
      " cost=  0.088066 w= 0.6431001 b= 0.37699866\n",
      "Epoch: 900\n",
      " cost=  0.085648 w= 0.6431001 b= 0.42598748\n",
      "Epoch: 1000\n",
      " cost=  0.083757 w= 0.6431001 b= 0.46932253\n",
      "최적화 종료!\n"
     ]
    },
    {
     "data": {
      "image/png": "[encoded data removed]",
      "text/plain": [
       "<Figure size 432x288 with 1 Axes>"
      ]
     },
     "metadata": {
      "needs_background": "light"
     },
     "output_type": "display_data"
    }
   ],
   "source": [
    "# 모델 구현\n",
    "\n",
    "with tf.Session() as sess:\n",
    "    sess.run(init)\n",
    "    for epoch in range(training_epochs):\n",
    "        for (x,y) in zip(train_X, train_Y):  # 1:1 매칭해서, 튜플 형식으로 반환 \n",
    "            sess.run(optimizer, feed_dict = {X:x, Y:y})\n",
    "            \n",
    "        if (epoch +1) % display_step == 0:\n",
    "            c = sess.run(cost, feed_dict={X:train_X, Y:train_Y})\n",
    "            print('Epoch:', '%d'%(epoch+1)+'\\n', 'cost=','{:9f}'.format(c), 'w=', sess.run(w), 'b=', sess.run(b))\n",
    "                \n",
    "    print('/n최적화 종료!')\n",
    "    training_cost = sess.run(cost, feed_dict = {X:train_X, Y : train_Y})\n",
    "    \n",
    "    # 회귀선 출력 y = ax + b\n",
    "    plt.plot(train_X, train_Y, 'ro', label ='Original data')\n",
    "    plt.plot(train_X, sess.run(W)*train_X + sess.run(b), label ='Fitted line')\n",
    "    plt.legend()\n",
    "    plt.show()\n"
   ]
  },
  {
   "cell_type": "code",
   "execution_count": 40,
   "metadata": {},
   "outputs": [
    {
     "data": {
      "text/plain": [
       "0.08375691"
      ]
     },
     "execution_count": 40,
     "metadata": {},
     "output_type": "execute_result"
    }
   ],
   "source": [
    "training_cost"
   ]
  },
  {
   "cell_type": "code",
   "execution_count": null,
   "metadata": {},
   "outputs": [],
   "source": []
  }
 ],
 "metadata": {
  "kernelspec": {
   "display_name": "Python 3",
   "language": "python",
   "name": "python3"
  },
  "language_info": {
   "codemirror_mode": {
    "name": "ipython",
    "version": 3
   },
   "file_extension": ".py",
   "mimetype": "text/x-python",
   "name": "python",
   "nbconvert_exporter": "python",
   "pygments_lexer": "ipython3",
   "version": "3.7.3"
  }
 },
 "nbformat": 4,
 "nbformat_minor": 4
}
