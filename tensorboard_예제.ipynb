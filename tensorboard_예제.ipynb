{
 "cells": [
  {
   "cell_type": "markdown",
   "metadata": {},
   "source": [
    "#### tensorboard 예제"
   ]
  },
  {
   "cell_type": "code",
   "execution_count": 2,
   "metadata": {},
   "outputs": [],
   "source": [
    "import tensorflow as tf"
   ]
  },
  {
   "cell_type": "code",
   "execution_count": 5,
   "metadata": {},
   "outputs": [
    {
     "name": "stdout",
     "output_type": "stream",
     "text": [
      "63\n"
     ]
    }
   ],
   "source": [
    "# 함수 및 상수 설정\n",
    "with tf.name_scope('Scope_A'):  # scope 변수의 범위\n",
    "    a = tf.add(1,2,name='A_add') # node: operation 연산 이름 넣기 -> tensorboard 위치확인\n",
    "                                                                    # model 저장 후 로딩 시 위치 확인\n",
    "    b = tf.multiply(a, 3, name='A_mul')\n",
    "    \n",
    "with tf.name_scope('Scope_B'):\n",
    "    c = tf.add(4,5, name='B_add')\n",
    "    d = tf.multiply(c, 6, name = 'B_mul')\n",
    "\n",
    "# 함수 실행\n",
    "e = tf.add(b,d,name='output')\n",
    "\n",
    "# write\n",
    "writer = tf.summary.FileWriter('./scope1', graph=tf.get_default_graph())\n",
    "writer.close\n",
    "\n",
    "# sess\n",
    "sess = tf.Session()\n",
    "print(sess.run(e))"
   ]
  },
  {
   "cell_type": "code",
   "execution_count": null,
   "metadata": {},
   "outputs": [],
   "source": []
  }
 ],
 "metadata": {
  "kernelspec": {
   "display_name": "Python 3",
   "language": "python",
   "name": "python3"
  },
  "language_info": {
   "codemirror_mode": {
    "name": "ipython",
    "version": 3
   },
   "file_extension": ".py",
   "mimetype": "text/x-python",
   "name": "python",
   "nbconvert_exporter": "python",
   "pygments_lexer": "ipython3",
   "version": "3.7.3"
  }
 },
 "nbformat": 4,
 "nbformat_minor": 4
}
