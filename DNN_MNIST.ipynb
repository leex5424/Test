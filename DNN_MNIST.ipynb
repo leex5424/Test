{
 "cells": [
  {
   "cell_type": "markdown",
   "metadata": {},
   "source": [
    "### DNN MNIST 예제"
   ]
  },
  {
   "cell_type": "code",
   "execution_count": 1,
   "metadata": {},
   "outputs": [],
   "source": [
    "import tensorflow as tf"
   ]
  },
  {
   "cell_type": "code",
   "execution_count": 2,
   "metadata": {},
   "outputs": [
    {
     "name": "stdout",
     "output_type": "stream",
     "text": [
      "1.14.0\n"
     ]
    }
   ],
   "source": [
    "print(tf.__version__)"
   ]
  },
  {
   "cell_type": "code",
   "execution_count": 5,
   "metadata": {},
   "outputs": [],
   "source": [
    "# 버전 문법 오류 무시\n",
    "import warnings\n",
    "warnings.filterwarnings(action='ignore')"
   ]
  },
  {
   "cell_type": "code",
   "execution_count": 9,
   "metadata": {},
   "outputs": [
    {
     "name": "stdout",
     "output_type": "stream",
     "text": [
      "Extracting /tmp/data/train-images-idx3-ubyte.gz\n",
      "Extracting /tmp/data/train-labels-idx1-ubyte.gz\n",
      "Extracting /tmp/data/t10k-images-idx3-ubyte.gz\n",
      "Extracting /tmp/data/t10k-labels-idx1-ubyte.gz\n"
     ]
    }
   ],
   "source": [
    "# 예제 다운받기\n",
    "# esc + m + y: 실행한 코드가 싹 다 제거 = kernel clear\n",
    "import numpy as np\n",
    "from tensorflow.examples.tutorials.mnist import input_data\n",
    "\n",
    "# y값이  one_hot 인코딩 값으로 출력\n",
    "mnist = input_data.read_data_sets('/tmp/data/', one_hot=True)"
   ]
  },
  {
   "cell_type": "code",
   "execution_count": 20,
   "metadata": {},
   "outputs": [
    {
     "data": {
      "image/png": "[encoded data removed]",
      "text/plain": [
       "<Figure size 432x288 with 1 Axes>"
      ]
     },
     "metadata": {
      "needs_background": "light"
     },
     "output_type": "display_data"
    }
   ],
   "source": [
    "%matplotlib inline\n",
    "import numpy as np\n",
    "import tensorflow as tf\n",
    "import matplotlib.pyplot as plt\n",
    "\n",
    "first_image = mnist.test.images[0]\n",
    "first_image = np.array(first_image, dtype='float')\n",
    "pixels = first_image.reshape((28, 28))\n",
    "plt.imshow(pixels, cmap='gray')\n",
    "plt.show()  "
   ]
  },
  {
   "cell_type": "code",
   "execution_count": 10,
   "metadata": {},
   "outputs": [],
   "source": [
    "# train, test 데이터 셋 설정\n",
    "# Xtr, Ytr = 변수, 종속변수\n",
    "Xtr, Ytr = mnist.train.next_batch(5000) # 5000개 뽑아줌\n",
    "Xte, Yte = mnist.test.next_batch(200)\n",
    "\n",
    "# 행수가 몇 개인지 모르기 때문에 None \n",
    "xtr = tf.placeholder('float', [None, 784])\n",
    "xte = tf.placeholder('float', [784])"
   ]
  },
  {
   "cell_type": "code",
   "execution_count": 11,
   "metadata": {},
   "outputs": [],
   "source": [
    "# cost function L1: Mean Absolute Error \n",
    "distance = tf.reduce_sum(tf.abs(tf.add(xtr, tf.negative(xte))), reduction_indices=1) # indices = braodcasting 1열로 맞춰서 더해라"
   ]
  },
  {
   "cell_type": "code",
   "execution_count": 12,
   "metadata": {},
   "outputs": [],
   "source": [
    "# 예측값 설정\n",
    "pred = tf.argmin(distance, 0) # argmin : 가장 작은 인덱스 번호 출력\n",
    "# 형태 : 0.2, 0.2, 0.01, 0.3, 0.4 ...  = 2 출력\n",
    "\n",
    "# 정확도 초기화 \n",
    "accuracy = 0.\n",
    "init = tf.global_variables_initializer()"
   ]
  },
  {
   "cell_type": "code",
   "execution_count": 22,
   "metadata": {},
   "outputs": [
    {
     "name": "stdout",
     "output_type": "stream",
     "text": [
      "Test 0 Prediction: 6 True Class: 6\n",
      "Test 1 Prediction: 7 True Class: 7\n",
      "Test 2 Prediction: 2 True Class: 2\n",
      "Test 3 Prediction: 8 True Class: 8\n",
      "Test 4 Prediction: 6 True Class: 6\n",
      "Test 5 Prediction: 6 True Class: 6\n",
      "Test 6 Prediction: 6 True Class: 6\n",
      "Test 7 Prediction: 1 True Class: 1\n",
      "Test 8 Prediction: 1 True Class: 1\n",
      "Test 9 Prediction: 0 True Class: 0\n",
      "Test 10 Prediction: 6 True Class: 6\n",
      "Test 11 Prediction: 5 True Class: 5\n",
      "Test 12 Prediction: 8 True Class: 8\n",
      "Test 13 Prediction: 8 True Class: 8\n",
      "Test 14 Prediction: 2 True Class: 2\n",
      "Test 15 Prediction: 8 True Class: 8\n",
      "Test 16 Prediction: 1 True Class: 5\n",
      "Test 17 Prediction: 1 True Class: 1\n",
      "Test 18 Prediction: 1 True Class: 2\n",
      "Test 19 Prediction: 0 True Class: 0\n",
      "Test 20 Prediction: 7 True Class: 7\n",
      "Test 21 Prediction: 0 True Class: 0\n",
      "Test 22 Prediction: 2 True Class: 2\n",
      "Test 23 Prediction: 9 True Class: 9\n",
      "Test 24 Prediction: 6 True Class: 6\n",
      "Test 25 Prediction: 3 True Class: 3\n",
      "Test 26 Prediction: 9 True Class: 9\n",
      "Test 27 Prediction: 8 True Class: 8\n",
      "Test 28 Prediction: 2 True Class: 2\n",
      "Test 29 Prediction: 9 True Class: 9\n",
      "Test 30 Prediction: 7 True Class: 7\n",
      "Test 31 Prediction: 0 True Class: 0\n",
      "Test 32 Prediction: 7 True Class: 7\n",
      "Test 33 Prediction: 1 True Class: 4\n",
      "Test 34 Prediction: 8 True Class: 8\n",
      "Test 35 Prediction: 2 True Class: 8\n",
      "Test 36 Prediction: 0 True Class: 0\n",
      "Test 37 Prediction: 9 True Class: 9\n",
      "Test 38 Prediction: 7 True Class: 7\n",
      "Test 39 Prediction: 9 True Class: 6\n",
      "Test 40 Prediction: 1 True Class: 1\n",
      "Test 41 Prediction: 9 True Class: 8\n",
      "Test 42 Prediction: 7 True Class: 7\n",
      "Test 43 Prediction: 8 True Class: 8\n",
      "Test 44 Prediction: 4 True Class: 4\n",
      "Test 45 Prediction: 1 True Class: 1\n",
      "Test 46 Prediction: 0 True Class: 0\n",
      "Test 47 Prediction: 0 True Class: 0\n",
      "Test 48 Prediction: 1 True Class: 1\n",
      "Test 49 Prediction: 2 True Class: 2\n",
      "Test 50 Prediction: 0 True Class: 0\n",
      "Test 51 Prediction: 9 True Class: 9\n",
      "Test 52 Prediction: 4 True Class: 4\n",
      "Test 53 Prediction: 4 True Class: 4\n",
      "Test 54 Prediction: 2 True Class: 2\n",
      "Test 55 Prediction: 1 True Class: 1\n",
      "Test 56 Prediction: 2 True Class: 2\n",
      "Test 57 Prediction: 8 True Class: 8\n",
      "Test 58 Prediction: 6 True Class: 2\n",
      "Test 59 Prediction: 2 True Class: 2\n",
      "Test 60 Prediction: 4 True Class: 4\n",
      "Test 61 Prediction: 3 True Class: 3\n",
      "Test 62 Prediction: 9 True Class: 9\n",
      "Test 63 Prediction: 2 True Class: 2\n",
      "Test 64 Prediction: 6 True Class: 6\n",
      "Test 65 Prediction: 6 True Class: 6\n",
      "Test 66 Prediction: 8 True Class: 8\n",
      "Test 67 Prediction: 9 True Class: 9\n",
      "Test 68 Prediction: 0 True Class: 0\n",
      "Test 69 Prediction: 7 True Class: 9\n",
      "Test 70 Prediction: 6 True Class: 6\n",
      "Test 71 Prediction: 5 True Class: 5\n",
      "Test 72 Prediction: 8 True Class: 8\n",
      "Test 73 Prediction: 2 True Class: 2\n",
      "Test 74 Prediction: 4 True Class: 4\n",
      "Test 75 Prediction: 3 True Class: 3\n",
      "Test 76 Prediction: 0 True Class: 0\n",
      "Test 77 Prediction: 0 True Class: 0\n",
      "Test 78 Prediction: 6 True Class: 6\n",
      "Test 79 Prediction: 6 True Class: 6\n",
      "Test 80 Prediction: 7 True Class: 4\n",
      "Test 81 Prediction: 2 True Class: 2\n",
      "Test 82 Prediction: 0 True Class: 0\n",
      "Test 83 Prediction: 0 True Class: 0\n",
      "Test 84 Prediction: 2 True Class: 2\n",
      "Test 85 Prediction: 5 True Class: 5\n",
      "Test 86 Prediction: 9 True Class: 9\n",
      "Test 87 Prediction: 0 True Class: 2\n",
      "Test 88 Prediction: 4 True Class: 4\n",
      "Test 89 Prediction: 4 True Class: 4\n",
      "Test 90 Prediction: 2 True Class: 2\n",
      "Test 91 Prediction: 4 True Class: 4\n",
      "Test 92 Prediction: 9 True Class: 9\n",
      "Test 93 Prediction: 0 True Class: 0\n",
      "Test 94 Prediction: 6 True Class: 6\n",
      "Test 95 Prediction: 8 True Class: 8\n",
      "Test 96 Prediction: 0 True Class: 0\n",
      "Test 97 Prediction: 9 True Class: 9\n",
      "Test 98 Prediction: 8 True Class: 8\n",
      "Test 99 Prediction: 8 True Class: 8\n",
      "Test 100 Prediction: 8 True Class: 8\n",
      "Test 101 Prediction: 3 True Class: 3\n",
      "Test 102 Prediction: 5 True Class: 8\n",
      "Test 103 Prediction: 2 True Class: 2\n",
      "Test 104 Prediction: 2 True Class: 2\n",
      "Test 105 Prediction: 0 True Class: 0\n",
      "Test 106 Prediction: 8 True Class: 8\n",
      "Test 107 Prediction: 2 True Class: 2\n",
      "Test 108 Prediction: 9 True Class: 9\n",
      "Test 109 Prediction: 0 True Class: 0\n",
      "Test 110 Prediction: 6 True Class: 6\n",
      "Test 111 Prediction: 0 True Class: 0\n",
      "Test 112 Prediction: 2 True Class: 2\n",
      "Test 113 Prediction: 1 True Class: 1\n",
      "Test 114 Prediction: 8 True Class: 8\n",
      "Test 115 Prediction: 5 True Class: 5\n",
      "Test 116 Prediction: 6 True Class: 6\n",
      "Test 117 Prediction: 3 True Class: 3\n",
      "Test 118 Prediction: 6 True Class: 5\n",
      "Test 119 Prediction: 9 True Class: 9\n",
      "Test 120 Prediction: 2 True Class: 2\n",
      "Test 121 Prediction: 4 True Class: 9\n",
      "Test 122 Prediction: 7 True Class: 7\n",
      "Test 123 Prediction: 6 True Class: 6\n",
      "Test 124 Prediction: 3 True Class: 3\n",
      "Test 125 Prediction: 1 True Class: 1\n",
      "Test 126 Prediction: 4 True Class: 4\n",
      "Test 127 Prediction: 0 True Class: 0\n",
      "Test 128 Prediction: 4 True Class: 4\n",
      "Test 129 Prediction: 1 True Class: 1\n",
      "Test 130 Prediction: 7 True Class: 7\n",
      "Test 131 Prediction: 9 True Class: 9\n",
      "Test 132 Prediction: 1 True Class: 1\n",
      "Test 133 Prediction: 7 True Class: 7\n",
      "Test 134 Prediction: 4 True Class: 4\n",
      "Test 135 Prediction: 9 True Class: 9\n",
      "Test 136 Prediction: 6 True Class: 6\n",
      "Test 137 Prediction: 5 True Class: 5\n",
      "Test 138 Prediction: 7 True Class: 7\n",
      "Test 139 Prediction: 9 True Class: 9\n",
      "Test 140 Prediction: 3 True Class: 8\n",
      "Test 141 Prediction: 2 True Class: 0\n",
      "Test 142 Prediction: 8 True Class: 8\n",
      "Test 143 Prediction: 5 True Class: 5\n",
      "Test 144 Prediction: 7 True Class: 7\n",
      "Test 145 Prediction: 9 True Class: 9\n",
      "Test 146 Prediction: 7 True Class: 7\n",
      "Test 147 Prediction: 6 True Class: 6\n",
      "Test 148 Prediction: 6 True Class: 6\n",
      "Test 149 Prediction: 6 True Class: 6\n",
      "Test 150 Prediction: 1 True Class: 1\n",
      "Test 151 Prediction: 4 True Class: 4\n",
      "Test 152 Prediction: 8 True Class: 8\n",
      "Test 153 Prediction: 6 True Class: 6\n",
      "Test 154 Prediction: 2 True Class: 2\n",
      "Test 155 Prediction: 8 True Class: 8\n",
      "Test 156 Prediction: 1 True Class: 1\n",
      "Test 157 Prediction: 3 True Class: 3\n",
      "Test 158 Prediction: 3 True Class: 3\n",
      "Test 159 Prediction: 3 True Class: 3\n",
      "Test 160 Prediction: 1 True Class: 1\n",
      "Test 161 Prediction: 6 True Class: 6\n",
      "Test 162 Prediction: 4 True Class: 4\n",
      "Test 163 Prediction: 4 True Class: 4\n",
      "Test 164 Prediction: 1 True Class: 1\n",
      "Test 165 Prediction: 0 True Class: 0\n",
      "Test 166 Prediction: 8 True Class: 8\n",
      "Test 167 Prediction: 2 True Class: 2\n",
      "Test 168 Prediction: 9 True Class: 8\n",
      "Test 169 Prediction: 7 True Class: 7\n",
      "Test 170 Prediction: 2 True Class: 2\n",
      "Test 171 Prediction: 6 True Class: 6\n",
      "Test 172 Prediction: 1 True Class: 1\n",
      "Test 173 Prediction: 5 True Class: 5\n",
      "Test 174 Prediction: 5 True Class: 5\n",
      "Test 175 Prediction: 8 True Class: 8\n",
      "Test 176 Prediction: 2 True Class: 2\n",
      "Test 177 Prediction: 0 True Class: 0\n",
      "Test 178 Prediction: 7 True Class: 7\n",
      "Test 179 Prediction: 3 True Class: 3\n",
      "Test 180 Prediction: 7 True Class: 7\n",
      "Test 181 Prediction: 0 True Class: 0\n",
      "Test 182 Prediction: 5 True Class: 5\n",
      "Test 183 Prediction: 7 True Class: 7\n",
      "Test 184 Prediction: 5 True Class: 5\n",
      "Test 185 Prediction: 7 True Class: 7\n",
      "Test 186 Prediction: 1 True Class: 1\n",
      "Test 187 Prediction: 6 True Class: 6\n",
      "Test 188 Prediction: 0 True Class: 0\n",
      "Test 189 Prediction: 1 True Class: 1\n",
      "Test 190 Prediction: 9 True Class: 9\n",
      "Test 191 Prediction: 0 True Class: 0\n",
      "Test 192 Prediction: 1 True Class: 1\n",
      "Test 193 Prediction: 8 True Class: 8\n",
      "Test 194 Prediction: 9 True Class: 9\n",
      "Test 195 Prediction: 6 True Class: 6\n",
      "Test 196 Prediction: 1 True Class: 1\n",
      "Test 197 Prediction: 3 True Class: 2\n",
      "Test 198 Prediction: 5 True Class: 5\n",
      "Test 199 Prediction: 8 True Class: 3\n",
      "Accuracy: 0.9100000000000007\n"
     ]
    }
   ],
   "source": [
    "with tf.Session() as sess:\n",
    "    # 초기화\n",
    "    sess.run(init)\n",
    "    for i in range(len(Xte)):\n",
    "        nn_index = sess.run(pred, feed_dict={xtr: Xtr, xte: Xte[i,:]})\n",
    "        # 확률적으로 가장 큰 데이터 \n",
    "        print('Test', i, 'Prediction:', np.argmax(Ytr[nn_index]), 'True Class:', np.argmax(Yte[i]))\n",
    "        # one-hot-encoding\n",
    "        if np.argmax(Ytr[nn_index]) == np.argmax(Yte[i]):\n",
    "            accuracy += 1./len(Xte)\n",
    "        \n",
    "    print('Accuracy:', accuracy)"
   ]
  },
  {
   "cell_type": "code",
   "execution_count": null,
   "metadata": {},
   "outputs": [],
   "source": []
  }
 ],
 "metadata": {
  "kernelspec": {
   "display_name": "Python 3",
   "language": "python",
   "name": "python3"
  },
  "language_info": {
   "codemirror_mode": {
    "name": "ipython",
    "version": 3
   },
   "file_extension": ".py",
   "mimetype": "text/x-python",
   "name": "python",
   "nbconvert_exporter": "python",
   "pygments_lexer": "ipython3",
   "version": "3.7.3"
  }
 },
 "nbformat": 4,
 "nbformat_minor": 4
}
