{
 "cells": [
  {
   "cell_type": "code",
   "execution_count": 317,
   "metadata": {},
   "outputs": [],
   "source": [
    "import pandas as pd\n",
    "import numpy as np\n",
    "import requests\n",
    "import os\n",
    "import shutil\n",
    "import time"
   ]
  },
  {
   "cell_type": "code",
   "execution_count": 318,
   "metadata": {},
   "outputs": [],
   "source": [
    "# 따옴표 없애주는 함수\n",
    "def dequote(s):\n",
    "    '''\n",
    "    If a string has single or double quotes aroud it, remove them.\n",
    "    Make sure the pair of quotes match.\n",
    "    If a matching pair of quotes is not found, return the string unchanged.\n",
    "    '''\n",
    "    if (s[0]==s[-1]) and s.startswith((\"'\",'\"')):\n",
    "        return s[1:-1]\n",
    "    return s"
   ]
  },
  {
   "cell_type": "code",
   "execution_count": 364,
   "metadata": {},
   "outputs": [],
   "source": [
    "target = 'TYSY'"
   ]
  },
  {
   "cell_type": "code",
   "execution_count": 365,
   "metadata": {},
   "outputs": [],
   "source": [
    "practice = pd.read_csv('./data/chembl_csv/kang/TYSY.csv', sep=';')"
   ]
  },
  {
   "cell_type": "code",
   "execution_count": 366,
   "metadata": {},
   "outputs": [],
   "source": [
    "practice = practice[['Molecule ChEMBL ID','Standard Value','Standard Relation']]"
   ]
  },
  {
   "cell_type": "code",
   "execution_count": 367,
   "metadata": {},
   "outputs": [
    {
     "data": {
      "text/html": [
       "<div>\n",
       "<style scoped>\n",
       "    .dataframe tbody tr th:only-of-type {\n",
       "        vertical-align: middle;\n",
       "    }\n",
       "\n",
       "    .dataframe tbody tr th {\n",
       "        vertical-align: top;\n",
       "    }\n",
       "\n",
       "    .dataframe thead th {\n",
       "        text-align: right;\n",
       "    }\n",
       "</style>\n",
       "<table border=\"1\" class=\"dataframe\">\n",
       "  <thead>\n",
       "    <tr style=\"text-align: right;\">\n",
       "      <th></th>\n",
       "      <th>Molecule ChEMBL ID</th>\n",
       "      <th>Standard Value</th>\n",
       "      <th>Standard Relation</th>\n",
       "    </tr>\n",
       "  </thead>\n",
       "  <tbody>\n",
       "    <tr>\n",
       "      <th>0</th>\n",
       "      <td>CHEMBL34259</td>\n",
       "      <td>29000.0</td>\n",
       "      <td>'='</td>\n",
       "    </tr>\n",
       "    <tr>\n",
       "      <th>1</th>\n",
       "      <td>CHEMBL388340</td>\n",
       "      <td>54.0</td>\n",
       "      <td>'='</td>\n",
       "    </tr>\n",
       "    <tr>\n",
       "      <th>2</th>\n",
       "      <td>CHEMBL389051</td>\n",
       "      <td>5000.0</td>\n",
       "      <td>'='</td>\n",
       "    </tr>\n",
       "    <tr>\n",
       "      <th>3</th>\n",
       "      <td>CHEMBL389051</td>\n",
       "      <td>180.0</td>\n",
       "      <td>'='</td>\n",
       "    </tr>\n",
       "    <tr>\n",
       "      <th>4</th>\n",
       "      <td>CHEMBL374172</td>\n",
       "      <td>17000.0</td>\n",
       "      <td>'&gt;'</td>\n",
       "    </tr>\n",
       "  </tbody>\n",
       "</table>\n",
       "</div>"
      ],
      "text/plain": [
       "  Molecule ChEMBL ID  Standard Value Standard Relation\n",
       "0        CHEMBL34259         29000.0               '='\n",
       "1       CHEMBL388340            54.0               '='\n",
       "2       CHEMBL389051          5000.0               '='\n",
       "3       CHEMBL389051           180.0               '='\n",
       "4       CHEMBL374172         17000.0               '>'"
      ]
     },
     "execution_count": 367,
     "metadata": {},
     "output_type": "execute_result"
    }
   ],
   "source": [
    "practice.head()"
   ]
  },
  {
   "cell_type": "code",
   "execution_count": 368,
   "metadata": {},
   "outputs": [],
   "source": [
    "practice['Standard Relation'] = practice['Standard Relation'].apply(lambda x : str(x))\n",
    "practice['Standard Relation'] = practice['Standard Relation'].apply(dequote)\n",
    "practice['Standard Relation'] = practice['Standard Relation'].replace('nan','')\n",
    "practice['Standard Value'] = practice['Standard Value'].fillna(10000)"
   ]
  },
  {
   "cell_type": "code",
   "execution_count": 369,
   "metadata": {},
   "outputs": [
    {
     "data": {
      "text/html": [
       "<div>\n",
       "<style scoped>\n",
       "    .dataframe tbody tr th:only-of-type {\n",
       "        vertical-align: middle;\n",
       "    }\n",
       "\n",
       "    .dataframe tbody tr th {\n",
       "        vertical-align: top;\n",
       "    }\n",
       "\n",
       "    .dataframe thead th {\n",
       "        text-align: right;\n",
       "    }\n",
       "</style>\n",
       "<table border=\"1\" class=\"dataframe\">\n",
       "  <thead>\n",
       "    <tr style=\"text-align: right;\">\n",
       "      <th></th>\n",
       "      <th>Molecule ChEMBL ID</th>\n",
       "      <th>Standard Value</th>\n",
       "      <th>Standard Relation</th>\n",
       "    </tr>\n",
       "  </thead>\n",
       "  <tbody>\n",
       "    <tr>\n",
       "      <th>0</th>\n",
       "      <td>CHEMBL34259</td>\n",
       "      <td>29000.0</td>\n",
       "      <td>=</td>\n",
       "    </tr>\n",
       "    <tr>\n",
       "      <th>1</th>\n",
       "      <td>CHEMBL388340</td>\n",
       "      <td>54.0</td>\n",
       "      <td>=</td>\n",
       "    </tr>\n",
       "    <tr>\n",
       "      <th>2</th>\n",
       "      <td>CHEMBL389051</td>\n",
       "      <td>5000.0</td>\n",
       "      <td>=</td>\n",
       "    </tr>\n",
       "    <tr>\n",
       "      <th>3</th>\n",
       "      <td>CHEMBL389051</td>\n",
       "      <td>180.0</td>\n",
       "      <td>=</td>\n",
       "    </tr>\n",
       "    <tr>\n",
       "      <th>4</th>\n",
       "      <td>CHEMBL374172</td>\n",
       "      <td>17000.0</td>\n",
       "      <td>&gt;</td>\n",
       "    </tr>\n",
       "  </tbody>\n",
       "</table>\n",
       "</div>"
      ],
      "text/plain": [
       "  Molecule ChEMBL ID  Standard Value Standard Relation\n",
       "0        CHEMBL34259         29000.0                 =\n",
       "1       CHEMBL388340            54.0                 =\n",
       "2       CHEMBL389051          5000.0                 =\n",
       "3       CHEMBL389051           180.0                 =\n",
       "4       CHEMBL374172         17000.0                 >"
      ]
     },
     "execution_count": 369,
     "metadata": {},
     "output_type": "execute_result"
    }
   ],
   "source": [
    "practice.head()"
   ]
  },
  {
   "cell_type": "code",
   "execution_count": 370,
   "metadata": {},
   "outputs": [],
   "source": [
    "df = pd.DataFrame(columns=practice.columns)\n",
    "\n",
    "for i in range(len(practice)):\n",
    "    if (practice.loc[i, 'Standard Relation'] in ('>','>=')) and (practice.loc[i, 'Standard Value'] == 1000):\n",
    "        pass\n",
    "    elif (practice.loc[i, 'Standard Relation'] in ('>','>=')) and (practice.loc[i, 'Standard Value'] <= 500):\n",
    "        df = df.append(practice.iloc[i])\n",
    "    \n",
    "    elif (practice.loc[i, 'Standard Relation'] not in ('>','>=')) and (practice.loc[i, 'Standard Value'] <= 1000):\n",
    "        df = df.append(practice.iloc[i])\n",
    "    \n",
    "    elif (practice.loc[i, 'Standard Relation'] in ('<','<=')) and (practice.loc[i, 'Standard Value'] <= 1000):\n",
    "        df = df.append(practice.iloc[i])\n",
    "    else:\n",
    "        pass\n",
    "        \n",
    "        \n",
    "    "
   ]
  },
  {
   "cell_type": "code",
   "execution_count": 371,
   "metadata": {},
   "outputs": [
    {
     "data": {
      "text/plain": [
       "=    231\n",
       "Name: Standard Relation, dtype: int64"
      ]
     },
     "execution_count": 371,
     "metadata": {},
     "output_type": "execute_result"
    }
   ],
   "source": [
    "df['Standard Relation'].value_counts()"
   ]
  },
  {
   "cell_type": "code",
   "execution_count": 372,
   "metadata": {},
   "outputs": [],
   "source": [
    "# CSV 파일 출력\n",
    "df.to_csv('D:/dev/workspace/chem/data/chembl_csv/kang/list/TYSY.csv')"
   ]
  },
  {
   "cell_type": "markdown",
   "metadata": {},
   "source": [
    "#### 데이터 생성"
   ]
  },
  {
   "cell_type": "code",
   "execution_count": 206,
   "metadata": {},
   "outputs": [],
   "source": []
  },
  {
   "cell_type": "code",
   "execution_count": 207,
   "metadata": {},
   "outputs": [],
   "source": [
    "ligand = []\n",
    "\n",
    "for i in protein_name:\n",
    "    name = i + '.mol'\n",
    "    ligand.append(name)"
   ]
  },
  {
   "cell_type": "code",
   "execution_count": 208,
   "metadata": {},
   "outputs": [
    {
     "data": {
      "text/plain": [
       "99"
      ]
     },
     "execution_count": 208,
     "metadata": {},
     "output_type": "execute_result"
    }
   ],
   "source": [
    "# 중복체크 로직\n",
    "path = 'D:/dev/workspace/chem/data/output/PLK1_2OWB_Active'\n",
    "\n",
    "compound = []\n",
    "for i in ligand:\n",
    "    if i in os.listdir(path):\n",
    "        compound.append(i)\n",
    "\n",
    "len(compound)\n"
   ]
  },
  {
   "cell_type": "code",
   "execution_count": 209,
   "metadata": {},
   "outputs": [
    {
     "name": "stdout",
     "output_type": "stream",
     "text": [
      "time: 116.08554649353027\n"
     ]
    }
   ],
   "source": [
    "# mol 파일 생성\n",
    "train_dir = 'D:/dev/workspace/chem/data/chembl_csv/' + target\n",
    "\n",
    "start = time.time()\n",
    "\n",
    "for i in compound:\n",
    "    url = 'https://www.ebi.ac.uk/chembl/api/data/molecule/' + i\n",
    "    m1 = requests.get(url).content.decode('utf-8').split('\\n')\n",
    "\n",
    "    f = open(train_dir+'/'+i, 'w')\n",
    "    f.write(name+'\\n')\n",
    "\n",
    "    for line in m1[1:-4]:\n",
    "        f.write(line+'\\n')\n",
    "        \n",
    "f.close()\n",
    "print('time:', time.time()-start)"
   ]
  },
  {
   "cell_type": "code",
   "execution_count": 211,
   "metadata": {},
   "outputs": [
    {
     "name": "stdout",
     "output_type": "stream",
     "text": [
      "time: 0.1196749210357666\n"
     ]
    }
   ],
   "source": [
    "# Mol 중복 파일 옮기기\n",
    "start = time.time()\n",
    "\n",
    "protein = 'FAK1_3BZ3_Active'\n",
    "duplicate_path = 'D:/dev/workspace/chem/data/mol_duplicate'\n",
    "output2_path = 'D:/dev/workspace/chem/data/output2/' + protein\n",
    "mol_path = 'D:/dev/workspace/chem/data/output/' + protein\n",
    "\n",
    "for i in os.listdir(output2_path):\n",
    "    if i in os.listdir(mol_path):\n",
    "        shutil.move(output2_path +'/'+ i, duplicate_path + '/' + i)\n",
    "    else:\n",
    "        shutil.copy(output2_path + '/'+i, mol_path + '/' + i)\n",
    "            \n",
    "print('time:', time.time()-start)"
   ]
  },
  {
   "cell_type": "code",
   "execution_count": null,
   "metadata": {},
   "outputs": [],
   "source": [
    "source = os.path.join(train_dir,name)\n",
    "destination = os.path.join(base_dir, 'trash')"
   ]
  },
  {
   "cell_type": "code",
   "execution_count": null,
   "metadata": {},
   "outputs": [],
   "source": [
    "source_file = os.listdir(source)"
   ]
  },
  {
   "cell_type": "code",
   "execution_count": null,
   "metadata": {},
   "outputs": [],
   "source": [
    "active_path = 'D:\\dev\\workspace\\Geometry\\Authalic\\data\\set'\n",
    "check = os.listdir(os.path.join(active_path, 'ACES_1E66_Active'))"
   ]
  },
  {
   "cell_type": "code",
   "execution_count": null,
   "metadata": {},
   "outputs": [],
   "source": [
    "# 중복된 데이터 제거 \n",
    "for i in source:\n",
    "    if i in check:\n",
    "        shutil.move(source+'/'+i, destination+'/'+i)"
   ]
  }
 ],
 "metadata": {
  "kernelspec": {
   "display_name": "DeepLearning",
   "language": "python",
   "name": "deeplearning"
  },
  "language_info": {
   "codemirror_mode": {
    "name": "ipython",
    "version": 3
   },
   "file_extension": ".py",
   "mimetype": "text/x-python",
   "name": "python",
   "nbconvert_exporter": "python",
   "pygments_lexer": "ipython3",
   "version": "3.6.8"
  }
 },
 "nbformat": 4,
 "nbformat_minor": 2
}
